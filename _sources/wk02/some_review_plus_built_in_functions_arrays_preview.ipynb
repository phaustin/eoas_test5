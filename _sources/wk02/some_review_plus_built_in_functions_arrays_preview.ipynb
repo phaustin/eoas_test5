{
 "cells": [
  {
   "cell_type": "markdown",
   "id": "edc97532",
   "metadata": {},
   "source": [
    "# Some Review Plus Built-In Functions, Arrays Preview\n",
    "\n",
    "## EOSC 211\n",
    "\n",
    "**Learning Goals:**\n",
    "\n",
    "* Review variable assignment, structural elements of Python\n",
    "* *Index* and *slice* list type variables\n",
    "* Use built-in functions to do useful things"
   ]
  },
  {
   "cell_type": "markdown",
   "id": "02586a79",
   "metadata": {},
   "source": [
    "### Question 1\n",
    "\n",
    "The code snippet below was intended to calculate the surface area of the Earth and print the answer to the screen.  What is the actual output (describe the quantity in words) of the code snippet?"
   ]
  },
  {
   "cell_type": "code",
   "execution_count": 1,
   "id": "51eeb82a",
   "metadata": {},
   "outputs": [],
   "source": [
    "# radius of Earth in km\n",
    "radius = 6371\n",
    "area = 4 * 3.14 * radius ** 2\n",
    "# radius of Moon in km\n",
    "radius = 1739\n",
    "area = 4 * 3.14 * radius ** 2"
   ]
  },
  {
   "cell_type": "markdown",
   "id": "2c311d8e",
   "metadata": {},
   "source": [
    "### Question 2\n",
    "\n",
    "Identify in the code snippet:\n",
    "\n",
    "* Variable names\n",
    "* Functions\n",
    "* Special characters\n",
    "* Operators"
   ]
  },
  {
   "cell_type": "markdown",
   "id": "6fb0d4db",
   "metadata": {},
   "source": [
    "### Question 3\n",
    "\n",
    "Write down what each line of code does"
   ]
  },
  {
   "cell_type": "markdown",
   "id": "b203c692",
   "metadata": {},
   "source": [
    "### Question 4\n",
    "\n",
    "What happens if we restart the kernel after executing this cell (the \\[$\\circlearrowright$\\] or button)?"
   ]
  },
  {
   "cell_type": "markdown",
   "id": "b3941cb6",
   "metadata": {},
   "source": [
    "### Question 5\n",
    "\n",
    "Let's define the following variable `mags`"
   ]
  },
  {
   "cell_type": "code",
   "execution_count": 2,
   "id": "d6987a93",
   "metadata": {},
   "outputs": [],
   "source": [
    "mags = [4.2000, 4.1000, 4.1000, 4.1000, 4.3000, 4.2000, 4.4000, 4.1000, 4.0000, 4.7000]"
   ]
  },
  {
   "cell_type": "markdown",
   "id": "c4b30731",
   "metadata": {},
   "source": [
    "**A)** How could we access the third number from the left?\n",
    "\n",
    "**B)** How to assign the last variable in this list to a new variable called `mags2`"
   ]
  },
  {
   "cell_type": "markdown",
   "id": "aff8530a",
   "metadata": {},
   "source": [
    "## Question 6\n",
    "\n",
    "Describe what is happening on this one line of code (it's surprisingly a lot). List the steps in order"
   ]
  },
  {
   "cell_type": "code",
   "execution_count": 3,
   "id": "f3893e0a",
   "metadata": {},
   "outputs": [
    {
     "ename": "NameError",
     "evalue": "name 'np' is not defined",
     "output_type": "error",
     "traceback": [
      "\u001b[0;31m---------------------------------------------------------------------------\u001b[0m",
      "\u001b[0;31mNameError\u001b[0m                                 Traceback (most recent call last)",
      "\u001b[0;32m/tmp/ipykernel_41882/2988544329.py\u001b[0m in \u001b[0;36m<module>\u001b[0;34m\u001b[0m\n\u001b[0;32m----> 1\u001b[0;31m \u001b[0my3\u001b[0m \u001b[0;34m=\u001b[0m \u001b[0mnp\u001b[0m\u001b[0;34m.\u001b[0m\u001b[0mmax\u001b[0m\u001b[0;34m(\u001b[0m\u001b[0mmags\u001b[0m\u001b[0;34m[\u001b[0m\u001b[0;36m3\u001b[0m\u001b[0;34m:\u001b[0m\u001b[0;36m8\u001b[0m\u001b[0;34m]\u001b[0m\u001b[0;34m)\u001b[0m\u001b[0;34m\u001b[0m\u001b[0;34m\u001b[0m\u001b[0m\n\u001b[0m",
      "\u001b[0;31mNameError\u001b[0m: name 'np' is not defined"
     ]
    }
   ],
   "source": [
    "y3 = np.max(mags[3:8])"
   ]
  }
 ],
 "metadata": {
  "jupytext": {
   "formats": "ipynb,md:myst",
   "text_representation": {
    "extension": ".md",
    "format_name": "myst",
    "format_version": 0.13,
    "jupytext_version": "1.10.3"
   }
  },
  "kernelspec": {
   "display_name": "Python 3 (ipykernel)",
   "language": "python",
   "name": "python3"
  },
  "language_info": {
   "codemirror_mode": {
    "name": "ipython",
    "version": 3
   },
   "file_extension": ".py",
   "mimetype": "text/x-python",
   "name": "python",
   "nbconvert_exporter": "python",
   "pygments_lexer": "ipython3",
   "version": "3.8.10"
  },
  "source_map": [
   13,
   25,
   31,
   38,
   49,
   55,
   61,
   67,
   69,
   75,
   81
  ]
 },
 "nbformat": 4,
 "nbformat_minor": 5
}