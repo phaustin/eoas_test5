{
 "cells": [
  {
   "cell_type": "markdown",
   "id": "c4f10444",
   "metadata": {},
   "source": [
    "# Assignment 1\n",
    "\n",
    "## EOSC 211\n",
    "\n",
    "logistics, partner collaboration, due dates\n",
    "\n",
    "LG's:\n",
    "\n",
    "* manipulate datetime objects, timedeltas\n",
    "* use dictionaries to access complex datasets\n",
    "* recycle old code for new purposes (use the map from lab 3!)\n",
    "\n",
    "### notes for andrew:\n",
    "\n",
    "part 1: I can use if elif else, loops, numpy arrays, logical indexing, annotate, subplots, type casting\n",
    "\n",
    "part 2: I can use f strings, maybe dictionaries, maybe functions\n",
    "\n",
    "## Introduction\n",
    "\n",
    "The ocean in the Salish Sea is affected by tidal forces,  wind, and spatial changes in density,  all of which drive currents.  What do these currents do?  If we release a floating object in the Strait of Georgia (the part of the Salish Sea right beside Vancouver), where will it end up?  Simple questions like turn out to be surprisingly difficult to answer. At present, we do know that there is an “estuarine” circulation in the Salish Sea.  Fresh water flows in from the Fraser River just south of Richmond.  This fresh water eventually ends up in the Pacific*.  So, there is a mean flow of surface water out of the Fraser, south past Victoria and then west out to the Pacific$^†$.  We also know that it takes a few weeks to get there, and so objects floating in the Strait probably also take about that long to leave our waters. But we would like to get a better idea of what the mean speed of their drift is, and how this mean might change from time to time. \n",
    "\n",
    "Over the past few years, the [ODL drifters project](www.drifters.eoas.ubc.ca) has been releasing GPS-tracked drifters into the Strait of Georgia near the mouth of the Fraser River, in order to better understand how the surface water flows out to the Pacific. In the assignment, you will analyze some of the data from this project.\n",
    "\n",
    "---\n",
    "\\* If it didn’t, the whole area would eventually be full of fresh water only, but it isn’t\n",
    "\n",
    "† We think that very little goes around the northern tip of Vancouver Island because there is only a narrow channel separating it from the mainland there"
   ]
  },
  {
   "cell_type": "code",
   "execution_count": 1,
   "id": "8a4dbfe2",
   "metadata": {},
   "outputs": [
    {
     "ename": "ModuleNotFoundError",
     "evalue": "No module named 'e211_lib'",
     "output_type": "error",
     "traceback": [
      "\u001b[0;31m---------------------------------------------------------------------------\u001b[0m",
      "\u001b[0;31mModuleNotFoundError\u001b[0m                       Traceback (most recent call last)",
      "\u001b[0;32m/tmp/ipykernel_204716/134351433.py\u001b[0m in \u001b[0;36m<module>\u001b[0;34m\u001b[0m\n\u001b[1;32m      1\u001b[0m \u001b[0;32mimport\u001b[0m \u001b[0mnumpy\u001b[0m \u001b[0;32mas\u001b[0m \u001b[0mnp\u001b[0m\u001b[0;34m\u001b[0m\u001b[0;34m\u001b[0m\u001b[0m\n\u001b[1;32m      2\u001b[0m \u001b[0;32mfrom\u001b[0m \u001b[0mscipy\u001b[0m\u001b[0;34m.\u001b[0m\u001b[0mio\u001b[0m \u001b[0;32mimport\u001b[0m \u001b[0mloadmat\u001b[0m\u001b[0;34m\u001b[0m\u001b[0;34m\u001b[0m\u001b[0m\n\u001b[0;32m----> 3\u001b[0;31m \u001b[0;32mfrom\u001b[0m \u001b[0me211_lib\u001b[0m \u001b[0;32mimport\u001b[0m \u001b[0me211\u001b[0m\u001b[0;34m\u001b[0m\u001b[0;34m\u001b[0m\u001b[0m\n\u001b[0m\u001b[1;32m      4\u001b[0m \u001b[0;32mfrom\u001b[0m \u001b[0mmatplotlib\u001b[0m \u001b[0;32mimport\u001b[0m \u001b[0mpyplot\u001b[0m \u001b[0;32mas\u001b[0m \u001b[0mplt\u001b[0m\u001b[0;34m\u001b[0m\u001b[0;34m\u001b[0m\u001b[0m\n",
      "\u001b[0;31mModuleNotFoundError\u001b[0m: No module named 'e211_lib'"
     ]
    }
   ],
   "source": [
    "import numpy as np\n",
    "from scipy.io import loadmat\n",
    "from e211_lib import e211\n",
    "from matplotlib import pyplot as plt"
   ]
  },
  {
   "cell_type": "code",
   "execution_count": 2,
   "id": "64fe5d54",
   "metadata": {},
   "outputs": [
    {
     "ename": "NameError",
     "evalue": "name 'e211' is not defined",
     "output_type": "error",
     "traceback": [
      "\u001b[0;31m---------------------------------------------------------------------------\u001b[0m",
      "\u001b[0;31mNameError\u001b[0m                                 Traceback (most recent call last)",
      "\u001b[0;32m/tmp/ipykernel_204716/968003011.py\u001b[0m in \u001b[0;36m<module>\u001b[0;34m\u001b[0m\n\u001b[1;32m      1\u001b[0m \u001b[0;31m# There is a function in the library to convert the original .mat file to the new format\u001b[0m\u001b[0;34m\u001b[0m\u001b[0;34m\u001b[0m\u001b[0;34m\u001b[0m\u001b[0m\n\u001b[0;32m----> 2\u001b[0;31m \u001b[0mdata\u001b[0m \u001b[0;34m=\u001b[0m \u001b[0me211\u001b[0m\u001b[0;34m.\u001b[0m\u001b[0mclean_a1_data\u001b[0m\u001b[0;34m(\u001b[0m\u001b[0;34m\"Drifter_dataset.mat\"\u001b[0m\u001b[0;34m)\u001b[0m\u001b[0;34m\u001b[0m\u001b[0;34m\u001b[0m\u001b[0m\n\u001b[0m\u001b[1;32m      3\u001b[0m \u001b[0;34m\u001b[0m\u001b[0m\n\u001b[1;32m      4\u001b[0m \u001b[0;31m# or load the .npy file with\u001b[0m\u001b[0;34m\u001b[0m\u001b[0;34m\u001b[0m\u001b[0;34m\u001b[0m\u001b[0m\n\u001b[1;32m      5\u001b[0m \u001b[0mdata\u001b[0m \u001b[0;34m=\u001b[0m \u001b[0mnp\u001b[0m\u001b[0;34m.\u001b[0m\u001b[0mload\u001b[0m\u001b[0;34m(\u001b[0m\u001b[0;34m\"drifter_data.npy\"\u001b[0m\u001b[0;34m,\u001b[0m \u001b[0mallow_pickle\u001b[0m\u001b[0;34m=\u001b[0m\u001b[0;32mTrue\u001b[0m\u001b[0;34m)\u001b[0m\u001b[0;34m\u001b[0m\u001b[0;34m\u001b[0m\u001b[0m\n",
      "\u001b[0;31mNameError\u001b[0m: name 'e211' is not defined"
     ]
    }
   ],
   "source": [
    "# There is a function in the library to convert the original .mat file to the new format\n",
    "data = e211.clean_a1_data(\"Drifter_dataset.mat\")\n",
    "\n",
    "# or load the .npy file with\n",
    "data = np.load(\"drifter_data.npy\", allow_pickle=True)"
   ]
  },
  {
   "cell_type": "markdown",
   "id": "fa5f206e",
   "metadata": {},
   "source": [
    "## Part 1: Summary Plot\n",
    "\n",
    "The `drifter_data.npy` file contains all of the data from 153 drifters. The `.npy` extension is a file format specific to numpy arrays. Each element of the array contains a *dictionary* with the following **key:value** pairs:\n",
    "\n",
    "\n",
    "    \"drifter_id\":        <integer> a unique identifier (e.g., labelled # on drifter body) \n",
    "    \"design\":            <integer> drifter design code (1-6)\n",
    "    \"tzone\":             <str> Time zone\n",
    "    \"datetime\":          <datetime object> the dates associated with each reported lat/lon position\n",
    "    \"lons\":              <float64> longitude in decimal degrees\n",
    "    \"lats\":              <float64> latitude in decimal degrees\n",
    "    \"comment\":           <str> metadata\n",
    "    \"at_sea\":            <int> flag for each point, classifying it as:\n",
    "                         1 - good - at sea, freely floating (valid)\n",
    "                         2 - bad  - at sea but trapped in rocky intertidal\n",
    "                                    (floating but not free)\n",
    "                         3 - bad  - on land (grounded, test data, etc.)\n",
    "                         4 - bad - at sea (large GPS error, on ship, etc.)\n",
    "    \"ends_on_land\":      <boolean> if the drifter ends by grounding or not\n",
    "                         True - grounded at or just after last at_sea==1 point\n",
    "                         False - track ends at sea\n",
    "    \"found_on_land\":     <boolean> If the drifter was found by a human (True) on land\n",
    "                         or if it was never recovered (False)\n",
    "    \"launchdate\":        <datetime object> the date the drifter was launched \n",
    "                         format = (Year, Month, Day, Hour, Minute, Second, Microsecond)\n",
    "    \"enddate\":           <datetime object> the date the drifter went offline\n",
    "    \"lifetime\":          <timedelta object> the length of the drifter's life\n",
    "    \"refloated\":         <boolean> if the drifter went to at_sea != 1 and then resumed \n",
    "                         transmitting with at_sea == 1\n",
    "    \"first_ground_date\": <datetime obj> date of first status code != 1. If the drifter \n",
    "                         never grounded, this is equal to \"enddate\"\n",
    "    \"first_lifetime\":    <timedelta object> length of time passed between launch and first \n",
    "                         status code != 1\n",
    "\n",
    "\n",
    "Note that since all the drifters have different lifetimes, the dataset associated with each drifter will be a different length. Keep this in mind when using loops and indexing to access data, as it may cause errors.\n",
    "\n",
    "All 153 tracks start in the vicinity of Sand Heads, at the mouth of the Fraser River. These include tracks where the drifter never touches land and eventually dies at sea, and tracks where the drifter grounds. For times between `launchdate` and\n",
    "`first_ground_date` (or `enddate` if the drifter doesn’t ground), points with `at_sea == 1` are valid points; if any\n",
    "`at_sea != 1`  then the corresponding `datetime`,`lats` and `lons` points are not valid for various reasons. Sometimes\n",
    "grounded drifters refloat after some time ashore and drift further, but we will ignore any data that were acquired\n",
    "after a grounding.\n",
    "\n",
    "### Your Task\n",
    "\n",
    "First, write code to show all the drift tracks up until either the point of first grounding, or the end of the track if the drifter does not ground. The track lines should be coloured to indicate the location of the track endpoint:\n",
    "\n",
    "• Tracks that exit the northern Strait (i.e. with end point west of 125.19◦W, north of 50.0◦N) should be green.\n",
    "\n",
    "\n",
    "• Tracks that leave the southern Strait (roughly, with end points south of about 48.78◦N latitude, but note that\n",
    "one track that completely leaves the Strait this way ends up north of this latitude and you should account for\n",
    "this) should be red.\n",
    "\n",
    "• Tracks that end within the Strait of Georgia should be light blue.\n",
    "\n",
    "As well as showing all the tracks, you should also label the starting and end points:\n",
    "\n",
    "• Label the track starting points with dark blue markers (these should all be near the mouth of the Fraser58\n",
    "River).\n",
    "\n",
    "• Label track end points at time of first grounding (if they ground) with green markers.\n",
    "\n",
    "• Label track end points if the drifter never grounds with red markers.\n",
    "\n",
    "You should use `if` statements and/or conditional sampling to determine into which category a given track belongs.\n",
    "Finally, add to the plot a text line that states how many tracks fall into each category - something like\n",
    "\n",
    "```\n",
    "100 tracks ground\n",
    "21 tracks leave the SoG to the south\n",
    "2 tracks leave the SoG to the north\n",
    "```\n",
    "\n",
    "(or whatever the numbers are) To hand in Part 1, provide the code and the plot. It should look something like Figure 1 (with the added text). Note - READ THE REST OF THE ASSIGNMENT so you can see what you have to do for the next part while answering this part. Also, the Handy Tips at the end will be helpful.\n",
    "\n",
    "#### Step 1: Acquire all the data \n",
    "\n",
    "Several possible avenues here..."
   ]
  },
  {
   "cell_type": "code",
   "execution_count": 3,
   "id": "a979e95e",
   "metadata": {},
   "outputs": [],
   "source": [
    "drifters = np.load(\"drifter_data.npy\", allow_pickle=True)\n",
    "basemap_in = loadmat(\"BCcoastline.mat\")"
   ]
  },
  {
   "cell_type": "code",
   "execution_count": 4,
   "id": "4ef24dbe",
   "metadata": {},
   "outputs": [
    {
     "ename": "NameError",
     "evalue": "name 'plt' is not defined",
     "output_type": "error",
     "traceback": [
      "\u001b[0;31m---------------------------------------------------------------------------\u001b[0m",
      "\u001b[0;31mNameError\u001b[0m                                 Traceback (most recent call last)",
      "\u001b[0;32m/tmp/ipykernel_204716/120966178.py\u001b[0m in \u001b[0;36m<module>\u001b[0;34m\u001b[0m\n\u001b[1;32m      1\u001b[0m \u001b[0;31m# plot the drifters\u001b[0m\u001b[0;34m\u001b[0m\u001b[0;34m\u001b[0m\u001b[0;34m\u001b[0m\u001b[0m\n\u001b[0;32m----> 2\u001b[0;31m \u001b[0mfig\u001b[0m\u001b[0;34m,\u001b[0m \u001b[0max\u001b[0m \u001b[0;34m=\u001b[0m \u001b[0mplt\u001b[0m\u001b[0;34m.\u001b[0m\u001b[0msubplots\u001b[0m\u001b[0;34m(\u001b[0m\u001b[0;34m)\u001b[0m\u001b[0;34m\u001b[0m\u001b[0;34m\u001b[0m\u001b[0m\n\u001b[0m\u001b[1;32m      3\u001b[0m \u001b[0;32mfor\u001b[0m \u001b[0mdat\u001b[0m \u001b[0;32min\u001b[0m \u001b[0mdata\u001b[0m\u001b[0;34m:\u001b[0m\u001b[0;34m\u001b[0m\u001b[0;34m\u001b[0m\u001b[0m\n\u001b[1;32m      4\u001b[0m     \u001b[0max\u001b[0m\u001b[0;34m.\u001b[0m\u001b[0mplot\u001b[0m\u001b[0;34m(\u001b[0m\u001b[0mdat\u001b[0m\u001b[0;34m[\u001b[0m\u001b[0;34m\"lons\"\u001b[0m\u001b[0;34m]\u001b[0m\u001b[0;34m,\u001b[0m \u001b[0mdat\u001b[0m\u001b[0;34m[\u001b[0m\u001b[0;34m\"lats\"\u001b[0m\u001b[0;34m]\u001b[0m\u001b[0;34m)\u001b[0m\u001b[0;34m\u001b[0m\u001b[0;34m\u001b[0m\u001b[0m\n",
      "\u001b[0;31mNameError\u001b[0m: name 'plt' is not defined"
     ]
    }
   ],
   "source": [
    "# plot the drifters\n",
    "fig, ax = plt.subplots()\n",
    "for dat in data:\n",
    "    ax.plot(dat[\"lons\"], dat[\"lats\"])"
   ]
  },
  {
   "cell_type": "code",
   "execution_count": 5,
   "id": "68c31d1e",
   "metadata": {},
   "outputs": [
    {
     "ename": "NameError",
     "evalue": "name 'plt' is not defined",
     "output_type": "error",
     "traceback": [
      "\u001b[0;31m---------------------------------------------------------------------------\u001b[0m",
      "\u001b[0;31mNameError\u001b[0m                                 Traceback (most recent call last)",
      "\u001b[0;32m/tmp/ipykernel_204716/41015602.py\u001b[0m in \u001b[0;36m<module>\u001b[0;34m\u001b[0m\n\u001b[1;32m      4\u001b[0m            \"lats\":basemap_in[\"ncst\"][:,1]}\n\u001b[1;32m      5\u001b[0m \u001b[0;34m\u001b[0m\u001b[0m\n\u001b[0;32m----> 6\u001b[0;31m \u001b[0mplt\u001b[0m\u001b[0;34m.\u001b[0m\u001b[0mplot\u001b[0m\u001b[0;34m(\u001b[0m\u001b[0mbasemap\u001b[0m\u001b[0;34m[\u001b[0m\u001b[0;34m\"lons\"\u001b[0m\u001b[0;34m]\u001b[0m\u001b[0;34m,\u001b[0m \u001b[0mbasemap\u001b[0m\u001b[0;34m[\u001b[0m\u001b[0;34m\"lats\"\u001b[0m\u001b[0;34m]\u001b[0m\u001b[0;34m)\u001b[0m\u001b[0;34m;\u001b[0m\u001b[0;34m\u001b[0m\u001b[0;34m\u001b[0m\u001b[0m\n\u001b[0m",
      "\u001b[0;31mNameError\u001b[0m: name 'plt' is not defined"
     ]
    }
   ],
   "source": [
    "# the original basemap from matlab.. this is hard to parse with matplotlib\n",
    "basemap = {\"k\":basemap_in[\"k\"].flatten(),\n",
    "           \"lons\":basemap_in[\"ncst\"][:,0],\n",
    "           \"lats\":basemap_in[\"ncst\"][:,1]}\n",
    "\n",
    "plt.plot(basemap[\"lons\"], basemap[\"lats\"]);"
   ]
  },
  {
   "cell_type": "code",
   "execution_count": 6,
   "id": "aa93659d",
   "metadata": {},
   "outputs": [
    {
     "ename": "NameError",
     "evalue": "name 'e211' is not defined",
     "output_type": "error",
     "traceback": [
      "\u001b[0;31m---------------------------------------------------------------------------\u001b[0m",
      "\u001b[0;31mNameError\u001b[0m                                 Traceback (most recent call last)",
      "\u001b[0;32m/tmp/ipykernel_204716/2215410514.py\u001b[0m in \u001b[0;36m<module>\u001b[0;34m\u001b[0m\n\u001b[1;32m      2\u001b[0m \u001b[0;31m# this is line for line the lab 3 tutorial section\u001b[0m\u001b[0;34m\u001b[0m\u001b[0;34m\u001b[0m\u001b[0;34m\u001b[0m\u001b[0m\n\u001b[1;32m      3\u001b[0m \u001b[0;34m\u001b[0m\u001b[0m\n\u001b[0;32m----> 4\u001b[0;31m \u001b[0mraw_bathdata\u001b[0m \u001b[0;34m=\u001b[0m \u001b[0me211\u001b[0m\u001b[0;34m.\u001b[0m\u001b[0mload_mat\u001b[0m\u001b[0;34m(\u001b[0m\u001b[0;34m\"Bathyfile.mat\"\u001b[0m\u001b[0;34m)\u001b[0m\u001b[0;34m\u001b[0m\u001b[0;34m\u001b[0m\u001b[0m\n\u001b[0m\u001b[1;32m      5\u001b[0m \u001b[0mbathdata_fixed\u001b[0m \u001b[0;34m=\u001b[0m \u001b[0mraw_bathdata\u001b[0m\u001b[0;34m[\u001b[0m\u001b[0;34m:\u001b[0m\u001b[0;34m:\u001b[0m\u001b[0;34m-\u001b[0m\u001b[0;36m1\u001b[0m\u001b[0;34m]\u001b[0m\u001b[0;34m\u001b[0m\u001b[0;34m\u001b[0m\u001b[0m\n\u001b[1;32m      6\u001b[0m \u001b[0;34m\u001b[0m\u001b[0m\n",
      "\u001b[0;31mNameError\u001b[0m: name 'e211' is not defined"
     ]
    }
   ],
   "source": [
    "# recycle the basemap from lab 3! good teachable\n",
    "# this is line for line the lab 3 tutorial section\n",
    "\n",
    "raw_bathdata = e211.load_mat(\"Bathyfile.mat\")\n",
    "bathdata_fixed = raw_bathdata[::-1]\n",
    "\n",
    "latlen = np.shape(bathdata_fixed)[0] # assign the height and width of the image to new variables\n",
    "lonlen = np.shape(bathdata_fixed)[1]\n",
    "\n",
    "lats = np.linspace(47, 60, latlen) # create arrays for lat and lon\n",
    "lons = np.linspace(-150, -110, lonlen)\n",
    "\n",
    "bath_zoomed = bathdata_fixed[0:150,500:900]\n",
    "lats_zoomed = lats[0:150]\n",
    "lons_zoomed = lons[500:900] # make sure the slices match between the coordinates and the original data\n",
    "\n",
    "# plot the basemap and the drifters together (first pass)\n",
    "plt.contourf(lons_zoomed, lats_zoomed, bath_zoomed)\n",
    "for dr in drifters:\n",
    "    plt.plot(dr[\"lons\"], dr[\"lats\"])"
   ]
  },
  {
   "cell_type": "code",
   "execution_count": 7,
   "id": "18c4c731",
   "metadata": {},
   "outputs": [
    {
     "ename": "NameError",
     "evalue": "name 'latlen' is not defined",
     "output_type": "error",
     "traceback": [
      "\u001b[0;31m---------------------------------------------------------------------------\u001b[0m",
      "\u001b[0;31mNameError\u001b[0m                                 Traceback (most recent call last)",
      "\u001b[0;32m/tmp/ipykernel_204716/2110341650.py\u001b[0m in \u001b[0;36m<module>\u001b[0;34m\u001b[0m\n\u001b[1;32m      1\u001b[0m \u001b[0;31m# readjust the map size to clearly show the drifters, and use conditional sampling\u001b[0m\u001b[0;34m\u001b[0m\u001b[0;34m\u001b[0m\u001b[0;34m\u001b[0m\u001b[0m\n\u001b[1;32m      2\u001b[0m \u001b[0;31m# to make our map only show land and sea rather than all elevetions -- less clutter\u001b[0m\u001b[0;34m\u001b[0m\u001b[0;34m\u001b[0m\u001b[0;34m\u001b[0m\u001b[0m\n\u001b[0;32m----> 3\u001b[0;31m \u001b[0mlats\u001b[0m \u001b[0;34m=\u001b[0m \u001b[0mnp\u001b[0m\u001b[0;34m.\u001b[0m\u001b[0mlinspace\u001b[0m\u001b[0;34m(\u001b[0m\u001b[0;36m47\u001b[0m\u001b[0;34m,\u001b[0m \u001b[0;36m60\u001b[0m\u001b[0;34m,\u001b[0m \u001b[0mlatlen\u001b[0m\u001b[0;34m)\u001b[0m  \u001b[0;31m# create arrays for lat and lon\u001b[0m\u001b[0;34m\u001b[0m\u001b[0;34m\u001b[0m\u001b[0m\n\u001b[0m\u001b[1;32m      4\u001b[0m \u001b[0mlons\u001b[0m \u001b[0;34m=\u001b[0m \u001b[0mnp\u001b[0m\u001b[0;34m.\u001b[0m\u001b[0mlinspace\u001b[0m\u001b[0;34m(\u001b[0m\u001b[0;34m-\u001b[0m\u001b[0;36m150\u001b[0m\u001b[0;34m,\u001b[0m \u001b[0;34m-\u001b[0m\u001b[0;36m110\u001b[0m\u001b[0;34m,\u001b[0m \u001b[0mlonlen\u001b[0m\u001b[0;34m)\u001b[0m\u001b[0;34m\u001b[0m\u001b[0;34m\u001b[0m\u001b[0m\n\u001b[1;32m      5\u001b[0m \u001b[0;34m\u001b[0m\u001b[0m\n",
      "\u001b[0;31mNameError\u001b[0m: name 'latlen' is not defined"
     ]
    }
   ],
   "source": [
    "# readjust the map size to clearly show the drifters, and use conditional sampling\n",
    "# to make our map only show land and sea rather than all elevetions -- less clutter\n",
    "lats = np.linspace(47, 60, latlen)  # create arrays for lat and lon\n",
    "lons = np.linspace(-150, -110, lonlen)\n",
    "\n",
    "xmin = 690\n",
    "xmax = 850\n",
    "\n",
    "ymin = 10\n",
    "ymax = 120\n",
    "\n",
    "bath_zoomed = bathdata_fixed[ymin:ymax, xmin:xmax]\n",
    "lats_zoomed = lats[ymin:ymax]\n",
    "lons_zoomed = lons[xmin:xmax]\n",
    "\n",
    "# recolor the map\n",
    "#bath_zoomed[bath_zoomed <= 0] = -1000\n",
    "#bath_zoomed[bath_zoomed > 50] = 1000\n",
    "\n",
    "fig, ax = plt.subplots(figsize=(8,8))\n",
    "plt.contourf(lons_zoomed, lats_zoomed, bath_zoomed) #, cmap=\"binary\")\n",
    "for dr in drifters:\n",
    "    plt.plot(dr[\"lons\"], dr[\"lats\"])"
   ]
  },
  {
   "cell_type": "markdown",
   "id": "05fadaf0",
   "metadata": {},
   "source": [
    "good start, fix this later on\n",
    "\n",
    "#### Step 2: Use conditional sampling\n",
    "\n",
    "Use conditional sampling to trim the drifter tracks and choose colors according to the criteria specified above"
   ]
  },
  {
   "cell_type": "code",
   "execution_count": 8,
   "id": "6fc354f1",
   "metadata": {},
   "outputs": [
    {
     "name": "stdout",
     "output_type": "stream",
     "text": [
      "before conditional sampling:\n",
      "562\n",
      "after conditional sampling:\n",
      "183\n"
     ]
    }
   ],
   "source": [
    "# how to conditionally sample a dictionary for a single element\n",
    "my_drifter = drifters[0]\n",
    "print(\"before conditional sampling:\")\n",
    "print(len(my_drifter[\"lats\"]))\n",
    "print(\"after conditional sampling:\")\n",
    "print(len(my_drifter[\"lats\"][my_drifter[\"datetime\"] < my_drifter[\"first_ground_date\"]]))"
   ]
  },
  {
   "cell_type": "code",
   "execution_count": 9,
   "id": "aafa87aa",
   "metadata": {},
   "outputs": [],
   "source": [
    "# show all the drift tracks up until either the point of first grounding, \n",
    "# or the end of the track if the drifter does not ground.\n",
    "for dr in drifters:\n",
    "    dr[\"lats\"] = dr[\"lats\"][dr[\"datetime\"] < dr[\"first_ground_date\"]]\n",
    "    dr[\"lons\"] = dr[\"lons\"][dr[\"datetime\"] < dr[\"first_ground_date\"]]\n",
    "    dr[\"datetime\"] = dr[\"datetime\"][dr[\"datetime\"] < dr[\"first_ground_date\"]]    "
   ]
  },
  {
   "cell_type": "code",
   "execution_count": 10,
   "id": "ce95f341",
   "metadata": {},
   "outputs": [],
   "source": [
    "# Add to the plot a text line that states how many tracks fall into each category\n",
    "north_count = 0\n",
    "south_count = 0\n",
    "sog_count = 0"
   ]
  },
  {
   "cell_type": "code",
   "execution_count": 11,
   "id": "fdc00ca6",
   "metadata": {},
   "outputs": [
    {
     "ename": "NameError",
     "evalue": "name 'plt' is not defined",
     "output_type": "error",
     "traceback": [
      "\u001b[0;31m---------------------------------------------------------------------------\u001b[0m",
      "\u001b[0;31mNameError\u001b[0m                                 Traceback (most recent call last)",
      "\u001b[0;32m/tmp/ipykernel_204716/1303581793.py\u001b[0m in \u001b[0;36m<module>\u001b[0;34m\u001b[0m\n\u001b[1;32m      1\u001b[0m \u001b[0;31m# Do the plot\u001b[0m\u001b[0;34m\u001b[0m\u001b[0;34m\u001b[0m\u001b[0;34m\u001b[0m\u001b[0m\n\u001b[0;32m----> 2\u001b[0;31m \u001b[0mfig\u001b[0m\u001b[0;34m,\u001b[0m \u001b[0max\u001b[0m \u001b[0;34m=\u001b[0m \u001b[0mplt\u001b[0m\u001b[0;34m.\u001b[0m\u001b[0msubplots\u001b[0m\u001b[0;34m(\u001b[0m\u001b[0mfigsize\u001b[0m\u001b[0;34m=\u001b[0m\u001b[0;34m(\u001b[0m\u001b[0;36m8\u001b[0m\u001b[0;34m,\u001b[0m \u001b[0;36m8\u001b[0m\u001b[0;34m)\u001b[0m\u001b[0;34m)\u001b[0m\u001b[0;34m\u001b[0m\u001b[0;34m\u001b[0m\u001b[0m\n\u001b[0m\u001b[1;32m      3\u001b[0m \u001b[0max\u001b[0m\u001b[0;34m.\u001b[0m\u001b[0mcontourf\u001b[0m\u001b[0;34m(\u001b[0m\u001b[0mlons_zoomed\u001b[0m\u001b[0;34m,\u001b[0m \u001b[0mlats_zoomed\u001b[0m\u001b[0;34m,\u001b[0m \u001b[0mbath_zoomed\u001b[0m\u001b[0;34m)\u001b[0m  \u001b[0;31m# , cmap=\"binary\")\u001b[0m\u001b[0;34m\u001b[0m\u001b[0;34m\u001b[0m\u001b[0m\n\u001b[1;32m      4\u001b[0m \u001b[0;32mfor\u001b[0m \u001b[0mdr\u001b[0m \u001b[0;32min\u001b[0m \u001b[0mdrifters\u001b[0m\u001b[0;34m:\u001b[0m\u001b[0;34m\u001b[0m\u001b[0;34m\u001b[0m\u001b[0m\n\u001b[1;32m      5\u001b[0m     \u001b[0;31m# Tracks that exit the northern Strait (i.e. with end point west of 125.19◦W, north of 50.0◦N) should be GREEN\u001b[0m\u001b[0;34m\u001b[0m\u001b[0;34m\u001b[0m\u001b[0;34m\u001b[0m\u001b[0m\n",
      "\u001b[0;31mNameError\u001b[0m: name 'plt' is not defined"
     ]
    }
   ],
   "source": [
    "# Do the plot\n",
    "fig, ax = plt.subplots(figsize=(8, 8))\n",
    "ax.contourf(lons_zoomed, lats_zoomed, bath_zoomed)  # , cmap=\"binary\")\n",
    "for dr in drifters:\n",
    "    # Tracks that exit the northern Strait (i.e. with end point west of 125.19◦W, north of 50.0◦N) should be GREEN\n",
    "    if dr[\"lons\"][-1] < -125.19 and dr[\"lats\"][-1] > 50.0:\n",
    "        ax.plot(dr[\"lons\"], dr[\"lats\"], color=\"green\", label=\"exit north\")\n",
    "        north_count += 1\n",
    "\n",
    "    # Tracks that leave the southern Strait (roughly, with end points south of about 48.78◦N latitude, but note that\n",
    "    # one track that completely leaves the Strait this way ends up north of this latitude and you should account for\n",
    "    # this) should be RED.\n",
    "    elif dr[\"lats\"][-1] < 48.78:\n",
    "        ax.plot(dr[\"lons\"], dr[\"lats\"], color=\"red\", label=\"exit south\")\n",
    "        south_count += 1\n",
    "\n",
    "    # Tracks that end within the Strait of Georgia should be LIGHT BLUE.\n",
    "    else:\n",
    "        ax.plot(dr[\"lons\"], dr[\"lats\"], color=\"lightblue\", label=\"SoG\")\n",
    "        sog_count += 1\n",
    "\n",
    "    # Label the track starting points with dark blue markers\n",
    "    # (these should all be near the mouth of the Fraser River).\n",
    "    ax.scatter(\n",
    "        dr[\"lons\"][0],\n",
    "        dr[\"lats\"][0],\n",
    "        color=\"blue\",\n",
    "        marker=\"o\",\n",
    "        label=\"starting point\",\n",
    "        zorder=3,\n",
    "    )\n",
    "\n",
    "    # Label track end points at time of first grounding (if they ground) with green markers.\n",
    "    # Label track end points if the drifter never grounds with red markers.\n",
    "    if dr[\"first_ground_date\"] == dr[\"enddate\"]:  # never grounds\n",
    "        ax.scatter(\n",
    "            dr[\"lons\"][-1],\n",
    "            dr[\"lats\"][-1],\n",
    "            color=\"red\",\n",
    "            marker=\"o\",\n",
    "            label=\"ends at sea\",\n",
    "            zorder=3,\n",
    "        )\n",
    "    else:\n",
    "        ax.scatter(\n",
    "            dr[\"lons\"][-1],\n",
    "            dr[\"lats\"][-1],\n",
    "            color=\"green\",\n",
    "            marker=\"o\",\n",
    "            label=\"ends on land\",\n",
    "            zorder=3,\n",
    "        )\n",
    "\n",
    "#ax.legend() # generates 153 * 6 legend entries. debug!\n",
    "text = f\"{sog_count} tracks ground\\n{north_count} tracks leave the SoG to the \\\n",
    "North\\n{south_count} tracks leave the SoG to the South\"\n",
    "ax.annotate(text, (-125,47.5), fontsize=\"large\")\n",
    "ax.set_xlabel(\"Longitude (deg)\")\n",
    "ax.set_ylabel(\"Latitude (deg)\")\n",
    "ax.set_title(\"Summary Plot of Drifter Tracks in the Straight of Georgia\");"
   ]
  },
  {
   "cell_type": "markdown",
   "id": "2f428f2d",
   "metadata": {},
   "source": [
    "## Part 2: Statistics\n",
    "\n",
    "Now we want to get some summary statistics.\n",
    "1. First, make a histogram plot showing the time to grounding, for all drifters that ground. Calculate the mean\n",
    "   and standard deviation of this time, and add this to the plot.\n",
    "\n",
    "2. Second, plot the drifter latitude (a proxy for the distance up-Strait or down-Strait of the deployment location)\n",
    "   as a function of time. Use the same line colours and end point markers for grounded and at-Sea end points\n",
    "   that you used in Part 1.\n",
    "\n",
    "    Now, add a thick line that gives the *median* drifter latitude, every half-day, from the deployment time to\n",
    "    15 days after deployment. That is, at 0.5 days after deployment, find the latitude of all drifters still afloat and\n",
    "    alive, and take the median. Repeat for 1 day after deployment, 1.5 days after, and so on.\n",
    "    Also, find the MEDIAN ABSOLUTE DEVIATION (or MAD, see mad to calculate this) of the latitudes, i.e.\n",
    "    \n",
    "    $$\n",
    "    MAD(X) ≡median(|X −median(X)|)\\tag{1}\n",
    "    $$\n",
    "    \n",
    "    and plot the median $±MAD$ as well.\n",
    "    Note that the median and the MAD are somewhat similar to the mean and standard deviation, but are less sensitive to outliers.\n",
    "    \n",
    "3. Finally, answer the questions\n",
    "\n",
    "   (a) Are the drifters moving seaward (on average)?\n",
    "   \n",
    "   (b) How long does it take for a drifter to move from the Fraser River to the Pacific?"
   ]
  },
  {
   "cell_type": "code",
   "execution_count": null,
   "id": "60623015",
   "metadata": {},
   "outputs": [],
   "source": []
  },
  {
   "cell_type": "code",
   "execution_count": 12,
   "id": "ab48c716",
   "metadata": {},
   "outputs": [
    {
     "data": {
      "text/plain": [
       "datetime.timedelta(days=14, seconds=34429, microseconds=999993)"
      ]
     },
     "execution_count": 12,
     "metadata": {},
     "output_type": "execute_result"
    }
   ],
   "source": [
    "drifters[0][\"lifetime\"]"
   ]
  }
 ],
 "metadata": {
  "jupytext": {
   "formats": "ipynb,md:myst",
   "text_representation": {
    "extension": ".md",
    "format_name": "myst",
    "format_version": 0.13,
    "jupytext_version": "1.10.3"
   }
  },
  "kernelspec": {
   "display_name": "Python 3 (ipykernel)",
   "language": "python",
   "name": "python3"
  },
  "language_info": {
   "codemirror_mode": {
    "name": "ipython",
    "version": 3
   },
   "file_extension": ".py",
   "mimetype": "text/x-python",
   "name": "python",
   "nbconvert_exporter": "python",
   "pygments_lexer": "ipython3",
   "version": "3.8.12"
  },
  "source_map": [
   13,
   44,
   51,
   57,
   139,
   144,
   151,
   160,
   183,
   207,
   215,
   224,
   233,
   240,
   301,
   331,
   335
  ]
 },
 "nbformat": 4,
 "nbformat_minor": 5
}