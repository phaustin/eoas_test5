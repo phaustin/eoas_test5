{
 "cells": [
  {
   "cell_type": "markdown",
   "id": "344fc100",
   "metadata": {},
   "source": [
    "# Steps In Problem Solving\n",
    "\n",
    "## EOSC 211\n",
    "\n",
    "**Week 2 Day 1**\n",
    "\n",
    "**Learning Objective:** Practice the steps in problem solving using earthquake data.\n",
    "\n",
    "<img src=\"quakemap.png\" width=\"500\">"
   ]
  },
  {
   "cell_type": "markdown",
   "id": "02daba82",
   "metadata": {},
   "source": [
    "### Question 1\n",
    "\n",
    "**Write down the 3 steps in algorithm design mentioned in the text book OR write down some steps you think will be common to problem solving with python (you might have more than 3 steps):**"
   ]
  },
  {
   "cell_type": "markdown",
   "id": "fcc62987",
   "metadata": {},
   "source": [
    "1) \n",
    "\n",
    "2)\n",
    "\n",
    "3)\n",
    "\n",
    "4)"
   ]
  },
  {
   "cell_type": "markdown",
   "id": "b3ee628f",
   "metadata": {},
   "source": [
    "### Question 2\n",
    "**We want to find the largest earthquake in the Pacific Northwest region in the past year.  The data sheet gives all earthquakes in this area that have a magnitude of at least 4.0.**"
   ]
  },
  {
   "cell_type": "code",
   "execution_count": 1,
   "id": "680df796",
   "metadata": {},
   "outputs": [
    {
     "ename": "ImportError",
     "evalue": "cannot import name 'e211' from 'e211_lib' (unknown location)",
     "output_type": "error",
     "traceback": [
      "\u001b[0;31m---------------------------------------------------------------------------\u001b[0m",
      "\u001b[0;31mImportError\u001b[0m                               Traceback (most recent call last)",
      "\u001b[0;32m/tmp/ipykernel_273432/2325084571.py\u001b[0m in \u001b[0;36m<module>\u001b[0;34m\u001b[0m\n\u001b[0;32m----> 1\u001b[0;31m \u001b[0;32mfrom\u001b[0m \u001b[0me211_lib\u001b[0m \u001b[0;32mimport\u001b[0m \u001b[0me211\u001b[0m\u001b[0;34m\u001b[0m\u001b[0;34m\u001b[0m\u001b[0m\n\u001b[0m\u001b[1;32m      2\u001b[0m \u001b[0me211\u001b[0m\u001b[0;34m.\u001b[0m\u001b[0mshow_earthquake_data\u001b[0m\u001b[0;34m(\u001b[0m\u001b[0;34m)\u001b[0m\u001b[0;34m\u001b[0m\u001b[0;34m\u001b[0m\u001b[0m\n",
      "\u001b[0;31mImportError\u001b[0m: cannot import name 'e211' from 'e211_lib' (unknown location)"
     ]
    }
   ],
   "source": [
    "from e211_lib import e211\n",
    "e211.show_earthquake_data()"
   ]
  },
  {
   "cell_type": "markdown",
   "id": "04473920",
   "metadata": {},
   "source": [
    "source: http://www.earthquakescanada.nrcan.gc.ca/\n",
    "\n",
    "**A) We want to design an *algorithm* to find the largest earthquake. Describe in words the *input* and *output* of your algorithm**"
   ]
  },
  {
   "cell_type": "markdown",
   "id": "5e827a3b",
   "metadata": {},
   "source": [
    "Input:\n",
    "\n",
    "Output:"
   ]
  },
  {
   "cell_type": "markdown",
   "id": "3b645ae4",
   "metadata": {},
   "source": [
    "**B).  Below, document the procedure you went through to get to your answer for the value of the output above.  <br> HINT:**  you need to think about what your brain actually does when it finds the largest # in a list"
   ]
  },
  {
   "cell_type": "markdown",
   "id": "95fba1b5",
   "metadata": {},
   "source": [
    "your answer here"
   ]
  },
  {
   "cell_type": "markdown",
   "id": "1880f299",
   "metadata": {},
   "source": [
    "### Question 3\n",
    "\n",
    "**The following is a *Python* code snippet:**"
   ]
  },
  {
   "cell_type": "code",
   "execution_count": 2,
   "id": "a63c0c0f",
   "metadata": {},
   "outputs": [],
   "source": [
    "mag1 = 4.9\n",
    "mag2 = 5.3\n",
    "if mag1 > mag2:\n",
    "    max_mag = mag1\n",
    "else:\n",
    "    max_mag = mag2"
   ]
  },
  {
   "cell_type": "markdown",
   "id": "e838b1d3",
   "metadata": {},
   "source": [
    "**Identify the following:**"
   ]
  },
  {
   "cell_type": "markdown",
   "id": "21a73427",
   "metadata": {},
   "source": [
    "A) Variable names:\n",
    "\n",
    "B) Operators:\n",
    "\n",
    "C) Reserved words:\n",
    "\n",
    "D) Special characters:"
   ]
  }
 ],
 "metadata": {
  "jupytext": {
   "formats": "ipynb,md:myst",
   "text_representation": {
    "extension": ".md",
    "format_name": "myst",
    "format_version": 0.13,
    "jupytext_version": "1.10.3"
   }
  },
  "kernelspec": {
   "display_name": "Python 3 (ipykernel)",
   "language": "python",
   "name": "python3"
  },
  "language_info": {
   "codemirror_mode": {
    "name": "ipython",
    "version": 3
   },
   "file_extension": ".py",
   "mimetype": "text/x-python",
   "name": "python",
   "nbconvert_exporter": "python",
   "pygments_lexer": "ipython3",
   "version": "3.8.10"
  },
  "source_map": [
   13,
   25,
   31,
   41,
   46,
   49,
   55,
   61,
   65,
   69,
   75,
   82,
   86
  ]
 },
 "nbformat": 4,
 "nbformat_minor": 5
}