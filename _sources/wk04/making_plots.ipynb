{
 "cells": [
  {
   "cell_type": "markdown",
   "id": "bf3a4170",
   "metadata": {},
   "source": [
    "# Making Plots\n",
    "\n",
    "## EOSC 211\n",
    "\n",
    "**Week 4 Day 1**\n",
    "\n",
    "**Learning Objectives:**  \n",
    "1. Introduce Matplotlib\n",
    "2. List the elements that make up a *scientific figure*\n",
    "2. Choose the appropriate figure to present a particular data set"
   ]
  },
  {
   "cell_type": "markdown",
   "id": "5940f892",
   "metadata": {},
   "source": [
    "### Question 1\n",
    "\n",
    "**List the 5 elements required for a scientific figure (recall lab week 3)**"
   ]
  },
  {
   "cell_type": "markdown",
   "id": "461fec1a",
   "metadata": {},
   "source": [
    "your answer here"
   ]
  },
  {
   "cell_type": "markdown",
   "id": "3345aac3",
   "metadata": {},
   "source": [
    "andrew's soln\n",
    "- Title \n",
    "- Axes labels with units\n",
    "- Legend\n",
    "- Does the figure *make sense* just by looking at it? The data should be clear without referencing anything outside the figure\n",
    "- Does it *look good*?"
   ]
  },
  {
   "cell_type": "markdown",
   "id": "f7f7b28e",
   "metadata": {},
   "source": [
    "### Question 2\n",
    "**When would the following 3 plot styles be appropriate choices to present data? In your groups, come up with a \"dataset\" (be creative!) that you would present with each of the following:**"
   ]
  },
  {
   "cell_type": "markdown",
   "id": "c12de6a5",
   "metadata": {},
   "source": [
    "**A) Scatter Plot** your answer here"
   ]
  },
  {
   "cell_type": "markdown",
   "id": "1ea09e85",
   "metadata": {},
   "source": [
    "**B) Histogram**"
   ]
  },
  {
   "cell_type": "markdown",
   "id": "caeaf39a",
   "metadata": {},
   "source": [
    "**C) Contour Plot**"
   ]
  },
  {
   "cell_type": "markdown",
   "id": "74d746b8",
   "metadata": {},
   "source": [
    "### Question 3\n",
    "\n",
    "**The [reading](link) for this week has tutorials for many different styles of plots (line plot, contour plot, boxplot, violin plot, etc). Choose 2 of the available options, and repeat question 2: come up with an experimental setup or data collection scheme that would best be presented via your choice of plot**"
   ]
  },
  {
   "cell_type": "markdown",
   "id": "a9a46333",
   "metadata": {},
   "source": [
    "your answer here"
   ]
  }
 ],
 "metadata": {
  "jupytext": {
   "formats": "ipynb,md:myst",
   "text_representation": {
    "extension": ".md",
    "format_name": "myst",
    "format_version": 0.13,
    "jupytext_version": "1.10.3"
   }
  },
  "kernelspec": {
   "display_name": "Python 3 (ipykernel)",
   "language": "python",
   "name": "python3"
  },
  "language_info": {
   "codemirror_mode": {
    "name": "ipython",
    "version": 3
   },
   "file_extension": ".py",
   "mimetype": "text/x-python",
   "name": "python",
   "nbconvert_exporter": "python",
   "pygments_lexer": "ipython3",
   "version": "3.8.10"
  },
  "source_map": [
   13,
   26,
   32,
   36,
   45,
   50,
   54,
   58,
   62,
   68
  ]
 },
 "nbformat": 4,
 "nbformat_minor": 5
}