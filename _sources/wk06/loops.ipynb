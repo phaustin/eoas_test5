{
 "cells": [
  {
   "cell_type": "markdown",
   "id": "7ebcbab5",
   "metadata": {},
   "source": [
    "# Loops\n",
    "\n",
    "## EOSC 211\n",
    "\n",
    "**Week 6 Day 1**\n",
    "\n",
    "**Learning Objectives:**  \n",
    "1. Use for and while loops to do useful things\n",
    "2. Appreciate built in functions\n",
    "\n",
    "**Write Python code to solve the following problems.  Do not use any built-in functions (unless explicitly allowed)**"
   ]
  },
  {
   "cell_type": "markdown",
   "id": "2922ec22",
   "metadata": {},
   "source": [
    "## Question 1\n",
    "\n",
    "**Use a loop to multiply together all the values in a numpy array `x`, which has n points. The final product goes into a variable `total`.**"
   ]
  },
  {
   "cell_type": "code",
   "execution_count": 1,
   "id": "fbea160b",
   "metadata": {},
   "outputs": [],
   "source": [
    "# your code here"
   ]
  },
  {
   "cell_type": "code",
   "execution_count": 2,
   "id": "8c2f4f03",
   "metadata": {},
   "outputs": [
    {
     "name": "stdout",
     "output_type": "stream",
     "text": [
      "540\n"
     ]
    }
   ],
   "source": [
    "# andrew's soln\n",
    "import numpy as np\n",
    "\n",
    "x = np.array([1,18,5,6]) # sample array for testing my code\n",
    "\n",
    "total = 1\n",
    "for num in x:\n",
    "    total *= num\n",
    "    \n",
    "print(total)"
   ]
  },
  {
   "cell_type": "markdown",
   "id": "bb26bf94",
   "metadata": {},
   "source": [
    "## Question 2\n",
    "\n",
    "**Use a loop to find the maximum (largest) value in `x`, writing the result into a variable `largest`.**"
   ]
  },
  {
   "cell_type": "code",
   "execution_count": 3,
   "id": "20928c62",
   "metadata": {},
   "outputs": [],
   "source": [
    "# your code here"
   ]
  },
  {
   "cell_type": "code",
   "execution_count": 4,
   "id": "3b2aee92",
   "metadata": {},
   "outputs": [
    {
     "name": "stdout",
     "output_type": "stream",
     "text": [
      "18\n"
     ]
    }
   ],
   "source": [
    "# andrew's soln\n",
    "largest = None\n",
    "for num in x:\n",
    "    if largest == None:\n",
    "        largest = num\n",
    "    else:\n",
    "        if num > largest:\n",
    "            largest = num\n",
    "print(largest)"
   ]
  },
  {
   "cell_type": "markdown",
   "id": "17837533",
   "metadata": {},
   "source": [
    "## Question 3\n",
    "\n",
    "**Use a loop to count the number of values in a list `x` that appear before a 5. (i.e. if `x = [1, 12, 2.5, 5, 8, 4, 5]` we want  an answer of 3). Put this number into another variable `get_five`.**"
   ]
  },
  {
   "cell_type": "code",
   "execution_count": 5,
   "id": "29673e8f",
   "metadata": {},
   "outputs": [],
   "source": [
    "# your code here"
   ]
  },
  {
   "cell_type": "code",
   "execution_count": 6,
   "id": "94087d02",
   "metadata": {},
   "outputs": [
    {
     "name": "stdout",
     "output_type": "stream",
     "text": [
      "3\n"
     ]
    }
   ],
   "source": [
    "# andrew's soln\n",
    "x = [1, 12, 2.5, 5, 8, 4, 5]\n",
    "\n",
    "get_five = 0\n",
    "while x[get_five] != 5:\n",
    "    get_five += 1\n",
    "\n",
    "print(get_five)"
   ]
  },
  {
   "cell_type": "markdown",
   "id": "1039a2cd",
   "metadata": {},
   "source": [
    "## Question 4\n",
    "\n",
    "**Consider an MxN array `A`.  Use a double loop to form a new 1xN array `rowsum`, the k$^{th}$ element of which contains the sum of elements in the k$^{th}$ column of `A`. You may use the built in functions `range()` and `len()`.**"
   ]
  },
  {
   "cell_type": "code",
   "execution_count": 7,
   "id": "0bdf215a",
   "metadata": {},
   "outputs": [],
   "source": [
    "# your code here"
   ]
  },
  {
   "cell_type": "code",
   "execution_count": 8,
   "id": "3bc87e3b",
   "metadata": {},
   "outputs": [
    {
     "name": "stdout",
     "output_type": "stream",
     "text": [
      "[6 4 9]\n"
     ]
    }
   ],
   "source": [
    "# andrew's soln\n",
    "A = np.array([[2,2,3],\n",
    "              [4,2,6]]) # test array\n",
    "\n",
    "rowsum = np.empty_like(A[0,:]) # initialize rowsum with the same number of columns as A\n",
    "for j in range(len(A[0,:])): # loop over columns\n",
    "    k = 0\n",
    "    for i in range(len(A[:,0])): # loop over rows\n",
    "        k += A[i,j] \n",
    "    rowsum[j] = k # assign k to rowsum\n",
    "        \n",
    "print(rowsum)"
   ]
  },
  {
   "cell_type": "markdown",
   "id": "a63d3ab0",
   "metadata": {},
   "source": [
    "## Exercise 5\n",
    "\n",
    "**Use [pX,pY]=ginput(1) to get a point, and continue getting points until pX<0. Store the pX values in another variable SX, where SX(1) is the first point chosen, SX(2) is the second element, and SX(N) is the last element.**"
   ]
  },
  {
   "cell_type": "code",
   "execution_count": 9,
   "id": "f84c64bf",
   "metadata": {},
   "outputs": [],
   "source": [
    "## No python equivalent of ginput() without some exotic package. Revise question?"
   ]
  },
  {
   "cell_type": "markdown",
   "id": "f2d93e3d",
   "metadata": {},
   "source": [
    "## Exercise 6\n",
    "\n",
    "**A) Run the following cell. What is the output (descrive in words)**"
   ]
  },
  {
   "cell_type": "code",
   "execution_count": 10,
   "id": "f29174ec",
   "metadata": {},
   "outputs": [],
   "source": [
    "x = np.array([0, 1])\n",
    "for k in np.arange(2,20):\n",
    "    x = np.append(x, x[k-1] + x[k-2])"
   ]
  },
  {
   "cell_type": "markdown",
   "id": "8022463d",
   "metadata": {},
   "source": [
    "your answer here"
   ]
  },
  {
   "cell_type": "markdown",
   "id": "990dd012",
   "metadata": {},
   "source": [
    "**B) How many arrays have been created by the time the loop finishes? Is this code *efficient?* Why or why not?**"
   ]
  },
  {
   "cell_type": "markdown",
   "id": "c5e5a80c",
   "metadata": {},
   "source": [
    "your answer here"
   ]
  }
 ],
 "metadata": {
  "jupytext": {
   "formats": "ipynb,md:myst",
   "text_representation": {
    "extension": ".md",
    "format_name": "myst",
    "format_version": 0.13,
    "jupytext_version": "1.10.3"
   }
  },
  "kernelspec": {
   "display_name": "Python 3 (ipykernel)",
   "language": "python",
   "name": "python3"
  },
  "language_info": {
   "codemirror_mode": {
    "name": "ipython",
    "version": 3
   },
   "file_extension": ".py",
   "mimetype": "text/x-python",
   "name": "python",
   "nbconvert_exporter": "python",
   "pygments_lexer": "ipython3",
   "version": "3.8.12"
  },
  "source_map": [
   13,
   27,
   33,
   37,
   48,
   54,
   58,
   68,
   74,
   78,
   87,
   93,
   97,
   110,
   116,
   118,
   124,
   128,
   132,
   136
  ]
 },
 "nbformat": 4,
 "nbformat_minor": 5
}