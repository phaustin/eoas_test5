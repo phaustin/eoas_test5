{
 "cells": [
  {
   "cell_type": "markdown",
   "id": "9abe0e9d",
   "metadata": {},
   "source": [
    "# More Complicated Logic\n",
    "\n",
    "## EOSC 211\n",
    "\n",
    "**Week 5 Day 2**\n",
    "\n",
    "**Learning Objectives:**  \n",
    "1. Practice interpreting logical flow control \n",
    "2. Comment code to make it easier for humans to interpret"
   ]
  },
  {
   "cell_type": "markdown",
   "id": "54ef3832",
   "metadata": {},
   "source": [
    "## Question 1\n",
    "\n",
    "**What is the value of `z` after you execute this script? Remember that `A % b` returns the remainder of the floor division operation `A // b`. Add comments to explain what is happening at each step.**"
   ]
  },
  {
   "cell_type": "code",
   "execution_count": 1,
   "id": "60a49981",
   "metadata": {},
   "outputs": [],
   "source": [
    "x=4\n",
    "y=3\n",
    "\n",
    "if x % 2 == 0:\n",
    "    if x * y > 15:\n",
    "        z = 1\n",
    "    elif x * y > 10:\n",
    "        z = 2\n",
    "    elif x * y == 12:\n",
    "        z = 3\n",
    "else:\n",
    "    z=0"
   ]
  },
  {
   "cell_type": "code",
   "execution_count": 2,
   "id": "255a2d3c",
   "metadata": {},
   "outputs": [
    {
     "name": "stdout",
     "output_type": "stream",
     "text": [
      "2\n"
     ]
    }
   ],
   "source": [
    "# andrew's soln\n",
    "\n",
    "# assign variables\n",
    "x=4\n",
    "y=3\n",
    "\n",
    "if x % 2 == 0: # check if x is even\n",
    "    if x * y > 15: \n",
    "        z = 1 # assign 1 to z if x*y is more than 15\n",
    "    elif x * y > 10:\n",
    "        z = 2 # assign 2 to z if x*y is less than 15 but more than 10\n",
    "    elif x * y == 12:\n",
    "        z = 3 # assign 3 to z if x*y is exactly 12\n",
    "else:\n",
    "    z=0 # if x is odd or x*y is not greater than 10, assign 0 to the variable z. \n",
    "    \n",
    "print(z)"
   ]
  },
  {
   "cell_type": "markdown",
   "id": "63310e70",
   "metadata": {},
   "source": [
    "## Question 2\n",
    "\n",
    "**What is the value of z after you execute this script? Add comments to the code**"
   ]
  },
  {
   "cell_type": "code",
   "execution_count": 3,
   "id": "a1479a22",
   "metadata": {},
   "outputs": [],
   "source": [
    "x = 4\n",
    "y = 3\n",
    "\n",
    "if x % 2 != 0:\n",
    "    if x * y == 12:\n",
    "        z = 3\n",
    "else:\n",
    "    z = 0"
   ]
  },
  {
   "cell_type": "code",
   "execution_count": 4,
   "id": "261474ea",
   "metadata": {},
   "outputs": [
    {
     "name": "stdout",
     "output_type": "stream",
     "text": [
      "0\n"
     ]
    }
   ],
   "source": [
    "# andrew's soln\n",
    "\n",
    "# assign variables\n",
    "x = 4\n",
    "y = 3\n",
    "\n",
    "if x % 2 != 0:  # check if x is odd\n",
    "    if x * y == 12:\n",
    "        z = 3  # assign 3 to z if x is odd and x*y is exactly 12\n",
    "else:\n",
    "    z = 0  # for all other possibilities, assign 0 to z\n",
    "\n",
    "print(z)"
   ]
  },
  {
   "cell_type": "markdown",
   "id": "4b99ccb8",
   "metadata": {},
   "source": [
    "## Question 3\n",
    "\n",
    "**What is the value of z after executing this script? Add comments to the code**"
   ]
  },
  {
   "cell_type": "code",
   "execution_count": 5,
   "id": "f372e0be",
   "metadata": {},
   "outputs": [],
   "source": [
    "x = -2\n",
    "y = 3\n",
    "\n",
    "if -4 < x < -1:\n",
    "    z = x ** 2 / 2\n",
    "elif -4 < x and x < -1:\n",
    "    z = -x * y ** 2\n",
    "    if z > 18:\n",
    "        z = 0 * z"
   ]
  },
  {
   "cell_type": "code",
   "execution_count": 6,
   "id": "d76a64ed",
   "metadata": {},
   "outputs": [
    {
     "name": "stdout",
     "output_type": "stream",
     "text": [
      "2.0\n"
     ]
    }
   ],
   "source": [
    "# andrew's soln\n",
    "\n",
    "# assign variables\n",
    "x = -2\n",
    "y = 3\n",
    "\n",
    "if -4 < x < -1:  # check if x is between -4 and -1\n",
    "    z = x ** 2 / 2  # assign half x squared to variable z\n",
    "elif -4 < x and x < -1:  # also check if x is between -4 and -1\n",
    "    z = -x * y ** 2  # assign negative x times y squared to z\n",
    "    if z > 18:\n",
    "        z = 0 * z  # z is greater than 18, replace the value of z with 0\n",
    "print(z)"
   ]
  },
  {
   "cell_type": "markdown",
   "id": "76f4cb15",
   "metadata": {},
   "source": [
    "**What is `z` after executing this script? What does this script do (in in 4 or 5 words)?**"
   ]
  },
  {
   "cell_type": "code",
   "execution_count": 7,
   "id": "dee69002",
   "metadata": {},
   "outputs": [],
   "source": [
    "x = [5, 3, 1, 2]\n",
    "z = x[0] \n",
    "\n",
    "if  x[1] < x[0]:\n",
    "    z = x[1]\n",
    "\n",
    "if x[2] < z:\n",
    "    z = x[2]\n",
    "    \n",
    "if x[3] < z:\n",
    "    z = x[3]"
   ]
  },
  {
   "cell_type": "markdown",
   "id": "dcdf575b",
   "metadata": {},
   "source": [
    "your answer here"
   ]
  },
  {
   "cell_type": "code",
   "execution_count": 8,
   "id": "14c2ad5a",
   "metadata": {},
   "outputs": [
    {
     "name": "stdout",
     "output_type": "stream",
     "text": [
      "1\n"
     ]
    }
   ],
   "source": [
    "# andrew's soln\n",
    "print(z)"
   ]
  },
  {
   "cell_type": "markdown",
   "id": "afd022c9",
   "metadata": {},
   "source": [
    "finds the smallest value in x"
   ]
  }
 ],
 "metadata": {
  "jupytext": {
   "formats": "ipynb,md:myst",
   "text_representation": {
    "extension": ".md",
    "format_name": "myst",
    "format_version": 0.13,
    "jupytext_version": "1.10.3"
   }
  },
  "kernelspec": {
   "display_name": "Python 3 (ipykernel)",
   "language": "python",
   "name": "python3"
  },
  "language_info": {
   "codemirror_mode": {
    "name": "ipython",
    "version": 3
   },
   "file_extension": ".py",
   "mimetype": "text/x-python",
   "name": "python",
   "nbconvert_exporter": "python",
   "pygments_lexer": "ipython3",
   "version": "3.8.10"
  },
  "source_map": [
   13,
   25,
   31,
   46,
   64,
   70,
   81,
   95,
   101,
   113,
   127,
   131,
   143,
   147,
   150
  ]
 },
 "nbformat": 4,
 "nbformat_minor": 5
}