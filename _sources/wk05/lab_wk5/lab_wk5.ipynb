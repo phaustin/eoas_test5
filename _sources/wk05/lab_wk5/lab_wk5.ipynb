{
 "cells": [
  {
   "cell_type": "markdown",
   "id": "2f9f4c7e",
   "metadata": {},
   "source": [
    "# Lab Week 5\n",
    "\n",
    "## EOSC 211\n",
    "\n",
    "### Learning Objectives:\n",
    "\n",
    "1. Define variables using user input data\n",
    "\n",
    "2. Use formatted text with f string literals to label plots\n",
    "\n",
    "3. Change variable datatypes using *type casting*\n",
    "\n",
    "3. Apply conditional statements `if elif else`"
   ]
  },
  {
   "cell_type": "markdown",
   "id": "9b22856e",
   "metadata": {},
   "source": [
    "## Part 1: The `plt.annotate()` Function and Formatted Text (Tutorial)\n",
    "\n",
    "This lab will focus on applying some of the new concepts we have learned to work with data very similar to what we have seen before. This week's dataset is a *digital elevation model* (DEM) and your challenge is to write a program for the analysis of topographic slopes. Usually we don’t have slopes, instead elevation data are stored in a Digital Elevation Model (DEM), which is basically a large array containing elevation above sea level over a grid of points. You already saw a DEM in the lab for Week 3, though we didn’t call it by that name. The program you write let a \"user\" pick a point on a plot of the DEM, then calculate the slope at that point, and use formatted text to tell you whether that point is east-facing, west-facing, or relatively flat. Your code will have to take into account that the world is round ifyou select a point on the edge of the DEM. A useful way of writing this kind of program is to proceed in a few steps:\n",
    "\n",
    "* Break up the problem into parts.   One technique useful for programs handling a lot of ‘special cases’ is to make it work for only one of the cases as a starting point.\n",
    "\n",
    "* In this case we won’t make you start from scratch - instead you will work on fixing broken code as a starting point, Then you have to add a piece of code that does the right thing if the input data is ‘good’ **note, no tutorial code is broken in this version of L5**\n",
    "\n",
    "* Then, think about ways in which the input data can be ‘bad’.  Add code to test for these conditions and to handle them in a useful way. This code will often get squeezed into the middle of the existing code.\n",
    "\n",
    "Start by importing our required packages as usual, and importing our dataset:"
   ]
  },
  {
   "cell_type": "code",
   "execution_count": 1,
   "id": "8edae32e",
   "metadata": {},
   "outputs": [],
   "source": [
    "from e211_lib import e211 \n",
    "from matplotlib import pyplot as plt\n",
    "import numpy as np"
   ]
  },
  {
   "cell_type": "code",
   "execution_count": 2,
   "id": "57367549",
   "metadata": {},
   "outputs": [
    {
     "data": {
      "text/plain": [
       "(180, 360)"
      ]
     },
     "execution_count": 2,
     "metadata": {},
     "output_type": "execute_result"
    }
   ],
   "source": [
    "# get the data and query the size of the array\n",
    "topo = e211.load_topo(\"lab5_topo.mat\")\n",
    "topo.shape # rows, columns"
   ]
  },
  {
   "cell_type": "code",
   "execution_count": 3,
   "id": "e38bfc57",
   "metadata": {},
   "outputs": [
    {
     "data": {
      "image/png": "[encoded data removed]",
      "text/plain": [
       "<Figure size 432x288 with 1 Axes>"
      ]
     },
     "metadata": {
      "filenames": {
       "image/png": "/home/phil/repos/eosc211/_build/jupyter_execute/wk05/lab_wk5/lab_wk5_4_0.png"
      },
      "needs_background": "light"
     },
     "output_type": "display_data"
    }
   ],
   "source": [
    "# create lat and lon arrays just like week 3 lab\n",
    "lats = np.linspace(-89.5, 89.5, topo.shape[0])\n",
    "lons = np.linspace(0.5, 359.5, topo.shape[1])\n",
    "\n",
    "# see if our labels correctly match the plot\n",
    "plt.contourf(lons, lats, topo);"
   ]
  },
  {
   "cell_type": "markdown",
   "id": "a90da817",
   "metadata": {},
   "source": [
    "Does everything look alright with our preliminary data visualization? If so, let's continue on to the *data processing* phase.\n",
    "\n",
    "We would like to our program to reference points on our map by their latitude/longitude coordinates, and be able to take in any arbitrary pair of coordinates and process the closest available point on the map. We can use python's built in [input()](https://www.w3schools.com/python/ref_func_input.asp) function to assign coordinate variables based on user input, and the [argmin()](https://numpy.org/doc/stable/reference/generated/numpy.argmin.html) attribute of numpy arrays to find the closest point on the map to the user specified lat/lon. \n",
    "\n",
    "Take a second to understand what the code is doing in the following cell. We need to make sure to properly differentiate between the *lat/lon coordinates* of a location (which a user will specify), the *array value* (i.e height above sea level stored in the array `topo`), and the *array index* that references that point in the array."
   ]
  },
  {
   "cell_type": "code",
   "execution_count": 4,
   "id": "02600649",
   "metadata": {},
   "outputs": [
    {
     "ename": "StdinNotImplementedError",
     "evalue": "raw_input was called, but this frontend does not support input requests.",
     "output_type": "error",
     "traceback": [
      "\u001b[0;31m---------------------------------------------------------------------------\u001b[0m",
      "\u001b[0;31mStdinNotImplementedError\u001b[0m                  Traceback (most recent call last)",
      "\u001b[0;32m/tmp/ipykernel_3318077/650780630.py\u001b[0m in \u001b[0;36m<module>\u001b[0;34m\u001b[0m\n\u001b[1;32m      1\u001b[0m \u001b[0;31m# input() takes in a string, we need to re-cast to float in order to do math\u001b[0m\u001b[0;34m\u001b[0m\u001b[0;34m\u001b[0m\u001b[0;34m\u001b[0m\u001b[0m\n\u001b[0;32m----> 2\u001b[0;31m \u001b[0musrlat\u001b[0m \u001b[0;34m=\u001b[0m  \u001b[0mfloat\u001b[0m\u001b[0;34m(\u001b[0m\u001b[0minput\u001b[0m\u001b[0;34m(\u001b[0m\u001b[0;34m\"Enter a latitude: \"\u001b[0m\u001b[0;34m)\u001b[0m\u001b[0;34m)\u001b[0m\u001b[0;34m\u001b[0m\u001b[0;34m\u001b[0m\u001b[0m\n\u001b[0m\u001b[1;32m      3\u001b[0m \u001b[0musrlon\u001b[0m \u001b[0;34m=\u001b[0m  \u001b[0mfloat\u001b[0m\u001b[0;34m(\u001b[0m\u001b[0minput\u001b[0m\u001b[0;34m(\u001b[0m\u001b[0;34m\"Enter a longitude: \"\u001b[0m\u001b[0;34m)\u001b[0m\u001b[0;34m)\u001b[0m\u001b[0;34m\u001b[0m\u001b[0;34m\u001b[0m\u001b[0m\n\u001b[1;32m      4\u001b[0m \u001b[0;34m\u001b[0m\u001b[0m\n\u001b[1;32m      5\u001b[0m \u001b[0;31m# assign new variables for the closest indexes to user specified lat & lon\u001b[0m\u001b[0;34m\u001b[0m\u001b[0;34m\u001b[0m\u001b[0;34m\u001b[0m\u001b[0m\n",
      "\u001b[0;32m~/mini38/envs/e211/lib/python3.8/site-packages/ipykernel/kernelbase.py\u001b[0m in \u001b[0;36mraw_input\u001b[0;34m(self, prompt)\u001b[0m\n\u001b[1;32m   1001\u001b[0m         \"\"\"\n\u001b[1;32m   1002\u001b[0m         \u001b[0;32mif\u001b[0m \u001b[0;32mnot\u001b[0m \u001b[0mself\u001b[0m\u001b[0;34m.\u001b[0m\u001b[0m_allow_stdin\u001b[0m\u001b[0;34m:\u001b[0m\u001b[0;34m\u001b[0m\u001b[0;34m\u001b[0m\u001b[0m\n\u001b[0;32m-> 1003\u001b[0;31m             raise StdinNotImplementedError(\n\u001b[0m\u001b[1;32m   1004\u001b[0m                 \u001b[0;34m\"raw_input was called, but this frontend does not support input requests.\"\u001b[0m\u001b[0;34m\u001b[0m\u001b[0;34m\u001b[0m\u001b[0m\n\u001b[1;32m   1005\u001b[0m             )\n",
      "\u001b[0;31mStdinNotImplementedError\u001b[0m: raw_input was called, but this frontend does not support input requests."
     ]
    }
   ],
   "source": [
    "# input() takes in a string, we need to re-cast to float in order to do math\n",
    "usrlat =  float(input(\"Enter a latitude: \"))\n",
    "usrlon =  float(input(\"Enter a longitude: \"))\n",
    "\n",
    "# assign new variables for the closest indexes to user specified lat & lon\n",
    "ilat = np.abs(lats-usrlat).argmin()\n",
    "ilon = np.abs(lons-usrlon).argmin()\n",
    "\n",
    "# print out a message using f strings\n",
    "print(f\"User specified variables: lat: {usrlat}, lon: {usrlon}\")\n",
    "print(f\"Closest values in array: lat: {lats[ilat]}, lon: {lons[ilon]} at indices [{ilat}, {ilon}]\")\n",
    "print(f\"Value of topo array at that point: {topo[ilat, ilon]}\")"
   ]
  },
  {
   "cell_type": "markdown",
   "id": "21323fd7",
   "metadata": {},
   "source": [
    "For the *output* of this program, we'll use the `plt.annotate()` function to label our user-selected point on the map, as well as display the elevation at that point. Later, you will build on this cell to add more information and present it as a polished scientific figure. This cell uses the function twice, once to draw a red X and once to label the point with some information. Check out the [docs for plt.annotate()](https://matplotlib.org/stable/api/_as_gen/matplotlib.pyplot.annotate.html) for more info on how to implement the function."
   ]
  },
  {
   "cell_type": "code",
   "execution_count": 5,
   "id": "3836cd02",
   "metadata": {},
   "outputs": [
    {
     "ename": "NameError",
     "evalue": "name 'usrlon' is not defined",
     "output_type": "error",
     "traceback": [
      "\u001b[0;31m---------------------------------------------------------------------------\u001b[0m",
      "\u001b[0;31mNameError\u001b[0m                                 Traceback (most recent call last)",
      "\u001b[0;32m/tmp/ipykernel_3318077/202635981.py\u001b[0m in \u001b[0;36m<module>\u001b[0;34m\u001b[0m\n\u001b[1;32m      1\u001b[0m \u001b[0;31m# output\u001b[0m\u001b[0;34m\u001b[0m\u001b[0;34m\u001b[0m\u001b[0;34m\u001b[0m\u001b[0m\n\u001b[1;32m      2\u001b[0m \u001b[0mimg\u001b[0m \u001b[0;34m=\u001b[0m \u001b[0mplt\u001b[0m\u001b[0;34m.\u001b[0m\u001b[0mcontourf\u001b[0m\u001b[0;34m(\u001b[0m\u001b[0mlons\u001b[0m\u001b[0;34m,\u001b[0m \u001b[0mlats\u001b[0m\u001b[0;34m,\u001b[0m \u001b[0mtopo\u001b[0m\u001b[0;34m)\u001b[0m\u001b[0;34m\u001b[0m\u001b[0;34m\u001b[0m\u001b[0m\n\u001b[0;32m----> 3\u001b[0;31m \u001b[0mplt\u001b[0m\u001b[0;34m.\u001b[0m\u001b[0mannotate\u001b[0m\u001b[0;34m(\u001b[0m\u001b[0;34m\"X\"\u001b[0m\u001b[0;34m,\u001b[0m \u001b[0;34m(\u001b[0m\u001b[0musrlon\u001b[0m\u001b[0;34m,\u001b[0m \u001b[0musrlat\u001b[0m\u001b[0;34m)\u001b[0m\u001b[0;34m,\u001b[0m \u001b[0mcolor\u001b[0m\u001b[0;34m=\u001b[0m\u001b[0;34m\"red\"\u001b[0m\u001b[0;34m)\u001b[0m\u001b[0;34m\u001b[0m\u001b[0;34m\u001b[0m\u001b[0m\n\u001b[0m\u001b[1;32m      4\u001b[0m \u001b[0mthe_label\u001b[0m \u001b[0;34m=\u001b[0m \u001b[0;34mf\"lat: {lats[ilat]} deg\\nlon: {lons[ilon]} deg\\nheight: {topo[ilat, ilon]} m\"\u001b[0m\u001b[0;34m\u001b[0m\u001b[0;34m\u001b[0m\u001b[0m\n\u001b[1;32m      5\u001b[0m \u001b[0mplt\u001b[0m\u001b[0;34m.\u001b[0m\u001b[0mannotate\u001b[0m\u001b[0;34m(\u001b[0m\u001b[0mthe_label\u001b[0m\u001b[0;34m,\u001b[0m \u001b[0;34m(\u001b[0m\u001b[0musrlon\u001b[0m \u001b[0;34m+\u001b[0m \u001b[0;36m10\u001b[0m\u001b[0;34m,\u001b[0m \u001b[0musrlat\u001b[0m\u001b[0;34m)\u001b[0m\u001b[0;34m,\u001b[0m \u001b[0mcolor\u001b[0m\u001b[0;34m=\u001b[0m\u001b[0;34m'white'\u001b[0m\u001b[0;34m)\u001b[0m\u001b[0;34m;\u001b[0m\u001b[0;34m\u001b[0m\u001b[0;34m\u001b[0m\u001b[0m\n",
      "\u001b[0;31mNameError\u001b[0m: name 'usrlon' is not defined"
     ]
    },
    {
     "data": {
      "image/png": "[encoded data removed]",
      "text/plain": [
       "<Figure size 432x288 with 1 Axes>"
      ]
     },
     "metadata": {
      "filenames": {
       "image/png": "/home/phil/repos/eosc211/_build/jupyter_execute/wk05/lab_wk5/lab_wk5_8_1.png"
      },
      "needs_background": "light"
     },
     "output_type": "display_data"
    }
   ],
   "source": [
    "# output\n",
    "img = plt.contourf(lons, lats, topo)\n",
    "plt.annotate(\"X\", (usrlon, usrlat), color=\"red\")\n",
    "the_label = f\"lat: {lats[ilat]} deg\\nlon: {lons[ilon]} deg\\nheight: {topo[ilat, ilon]} m\"\n",
    "plt.annotate(the_label, (usrlon + 10, usrlat), color='white');"
   ]
  },
  {
   "cell_type": "markdown",
   "id": "1a71e947",
   "metadata": {},
   "source": [
    "## Part 2:  Calculate the Topography Slope\n",
    "\n",
    "Your task is to solve the following problem: What is the east/west slope (in degrees) at the point you specify at the input? The east/west slope is a height difference between the point immediately to the RIGHT (or EAST) of the one you picked and the one immediately to the LEFT (or WEST) of it,  divided by the horizontal distance of these two points (think $slope = \\frac{rise}{run}$). Then take the arc-tangent to get the result in degrees:\n",
    "\n",
    "$$\n",
    "Slope \\approx tan^{-1}\\left(\\frac{topo(i, j+1) - topo(i, j-1)}{\\Delta LON \\times 111e3 \\times cos(LAT)}\\right)\n",
    "$$\n",
    "\n",
    "\n",
    "\n",
    "| Symbol  | Variable      |  Units   |\n",
    "|:--|:----------------------------------|:------------|\n",
    "| $topo$     | topography array      | $height$ ($m$) |\n",
    "| $i,j$  | lat, lon indices      | --  |\n",
    "| $\\Delta LON$  | change in longitude between two points      | $degrees$  |\n",
    "| $111e3$  | at the equator, 1 degree=111000m      | $m/deg$  |\n",
    "| $LAT$  | latitude of the point selected      | $degrees$  |\n",
    "| $cos(LAT)$  | a correction factor to take into account longitude convergence at the poles     | --  |\n",
    "\n",
    "### 2a\n",
    "In the cell below, write code to make this work for points well within the array (i.e. away from the edges of the map). Make sure the trigonometric functions you use are for degrees and not radians. You may find the functions `np.deg2rad()` and `np.rad2deg()` helpful."
   ]
  },
  {
   "cell_type": "code",
   "execution_count": 6,
   "id": "6542fbfd",
   "metadata": {},
   "outputs": [],
   "source": [
    "# your code here"
   ]
  },
  {
   "cell_type": "code",
   "execution_count": 7,
   "id": "dcd38b5a",
   "metadata": {},
   "outputs": [
    {
     "ename": "NameError",
     "evalue": "name 'ilat' is not defined",
     "output_type": "error",
     "traceback": [
      "\u001b[0;31m---------------------------------------------------------------------------\u001b[0m",
      "\u001b[0;31mNameError\u001b[0m                                 Traceback (most recent call last)",
      "\u001b[0;32m/tmp/ipykernel_3318077/3342557650.py\u001b[0m in \u001b[0;36m<module>\u001b[0;34m\u001b[0m\n\u001b[1;32m      1\u001b[0m \u001b[0;31m# andrew's soln\u001b[0m\u001b[0;34m\u001b[0m\u001b[0;34m\u001b[0m\u001b[0;34m\u001b[0m\u001b[0m\n\u001b[0;32m----> 2\u001b[0;31m slope = np.rad2deg(np.arctan((topo[ilat, ilon + 1] \n\u001b[0m\u001b[1;32m      3\u001b[0m                               - topo[ilat, ilon - 1]) \n\u001b[1;32m      4\u001b[0m                               / (2 * 111e3 \n\u001b[1;32m      5\u001b[0m                               * np.cos(np.deg2rad(usrlat)))))\n",
      "\u001b[0;31mNameError\u001b[0m: name 'ilat' is not defined"
     ]
    }
   ],
   "source": [
    "# andrew's soln\n",
    "slope = np.rad2deg(np.arctan((topo[ilat, ilon + 1] \n",
    "                              - topo[ilat, ilon - 1]) \n",
    "                              / (2 * 111e3 \n",
    "                              * np.cos(np.deg2rad(usrlat)))))\n",
    "slope"
   ]
  },
  {
   "cell_type": "markdown",
   "id": "6c99c3af",
   "metadata": {},
   "source": [
    "### 2b\n",
    "\n",
    "Use `if` `elif` `else` blocks to print the following message to the screen:\n",
    "\n",
    "(i)  The latitude and longitude of the selected point (note - latitudes can be N or S, longitudes can always be E)\n",
    "\n",
    "(ii)  The elevation AND the slope at that point (in degrees)\n",
    "\n",
    "(iii)  A  message  saying  “Flat”  if  the  slope  angle  is  between  -0.1  and  +0.1  degrees,  “East-facing,” or “West-facing” if the slope is larger and either east - or west-facing, respectively. An “east-facing” slope tilts DOWN towards the east. Use *f string literals* to compose the message in a nicely formatted way, something like:\n",
    "\n",
    "       At 30.5 N, 100.5 E, the height is 4014 m and the slope is -0.188 degrees. This is east-facing.\n",
    "       \n",
    "In part 3, you will create a scientific figure with the slope and aspect annotated on the plot. For now, print the message to the screen"
   ]
  },
  {
   "cell_type": "code",
   "execution_count": 8,
   "id": "c49ccebe",
   "metadata": {},
   "outputs": [],
   "source": [
    "# your code here"
   ]
  },
  {
   "cell_type": "code",
   "execution_count": 9,
   "id": "6610b9c7",
   "metadata": {},
   "outputs": [
    {
     "ename": "NameError",
     "evalue": "name 'usrlat' is not defined",
     "output_type": "error",
     "traceback": [
      "\u001b[0;31m---------------------------------------------------------------------------\u001b[0m",
      "\u001b[0;31mNameError\u001b[0m                                 Traceback (most recent call last)",
      "\u001b[0;32m/tmp/ipykernel_3318077/2487950347.py\u001b[0m in \u001b[0;36m<module>\u001b[0;34m\u001b[0m\n\u001b[1;32m      2\u001b[0m \u001b[0;34m\u001b[0m\u001b[0m\n\u001b[1;32m      3\u001b[0m \u001b[0;31m# formatting for latitude\u001b[0m\u001b[0;34m\u001b[0m\u001b[0;34m\u001b[0m\u001b[0;34m\u001b[0m\u001b[0m\n\u001b[0;32m----> 4\u001b[0;31m \u001b[0;32mif\u001b[0m \u001b[0mint\u001b[0m\u001b[0;34m(\u001b[0m\u001b[0musrlat\u001b[0m\u001b[0;34m)\u001b[0m \u001b[0;34m<\u001b[0m \u001b[0;36m0\u001b[0m\u001b[0;34m:\u001b[0m\u001b[0;34m\u001b[0m\u001b[0;34m\u001b[0m\u001b[0m\n\u001b[0m\u001b[1;32m      5\u001b[0m     \u001b[0mlatdir\u001b[0m \u001b[0;34m=\u001b[0m \u001b[0;34m\"S\"\u001b[0m\u001b[0;34m\u001b[0m\u001b[0;34m\u001b[0m\u001b[0m\n\u001b[1;32m      6\u001b[0m \u001b[0;32melse\u001b[0m\u001b[0;34m:\u001b[0m\u001b[0;34m\u001b[0m\u001b[0;34m\u001b[0m\u001b[0m\n",
      "\u001b[0;31mNameError\u001b[0m: name 'usrlat' is not defined"
     ]
    }
   ],
   "source": [
    "# andrew's soln\n",
    "\n",
    "# formatting for latitude\n",
    "if int(usrlat) < 0:\n",
    "    latdir = \"S\"\n",
    "else:\n",
    "    latdir = \"N\"\n",
    "\n",
    "# formatting for slope direction\n",
    "if slope > 0.1:\n",
    "    aspect = \"west-facing\"\n",
    "elif slope < -0.1:\n",
    "    aspect = \"east-facing\"\n",
    "else:\n",
    "    aspect = \"flat\"\n",
    "\n",
    "# make a formatted string\n",
    "out_msg = f\"At {lats[ilat]} {latdir}, {lons[ilon]} E, the height is \\\n",
    "{topo[ilat, ilon]} m and the slope is {np.round(slope,3)} degrees. This is {aspect}.\"\n",
    "\n",
    "print(out_msg)"
   ]
  },
  {
   "cell_type": "markdown",
   "id": "af449051",
   "metadata": {},
   "source": [
    "##  Part 3: Selections - Check Arguments\n",
    "\n",
    "\n",
    "Often with user input, your program has to first check their validity to make sure they don’t crash the program or get an unwanted (incorrect) result. We already implemented code to make sure to reference the *closest available point to the input*, rather than trusting that input will precisely match the values in the arrays `lats` and `lons`. \n",
    "\n",
    "In general, it is a good strategy to write code to handle the majority of possible cases, running it, then modifying  to account for \"edge cases\" as needed.\n",
    "\n",
    "What other \"bad\" inputs can we anticipate that would result in buggy output? What if the user enters a value at the edge of the map (ie `usrlon = 355.5`), such that there is no $j+1$ element of the array? What about `usrlon = 0`? Modify your code from part **2a** as necessary to handle these possibilities. (**hint:** Do you encounter the same problem on both the left and right edges of the map? Why/why not?) \n",
    "\n",
    "### To Hand In:\n",
    "\n",
    "In the cell(s) below, write a self contained program (you can recycle code from earlier parts of the lab) that runs through the whole process of *import/input, data scrubbing, presentation.*\n",
    "\n",
    "#### Import/Input\n",
    "This part should be pretty trivial, just copy/paste the appropriate code from above\n",
    "\n",
    "#### Data Scrubbing\n",
    "Use `if` `elif` `else` statements and *type casting* to handle the possible special cases for user input\n",
    "\n",
    "#### Output\n",
    "Generate a scientific figure with the following:\n",
    "\n",
    "* An X marking the selected location\n",
    "* Text beside the X specifying the lat, lon, elevation, slope, and aspect (E or W facing) of the point\n",
    "* All the regular fix-ins for a scientific figure:\n",
    "\n",
    "<div class=\"alert alert-block alert-info\">\n",
    "<b>Scientific Figure Checklist:</b> \n",
    "\n",
    "- [ ] Title \n",
    "- [ ] Axes labels with units \n",
    "- [ ] Legend\n",
    "- [ ] Does the figure *make sense* just by looking at it? The data should be clear without referencing anything outside the figure\n",
    "- [ ] Does it *look good*? \n",
    "</div>"
   ]
  },
  {
   "cell_type": "code",
   "execution_count": 10,
   "id": "c0601692",
   "metadata": {},
   "outputs": [],
   "source": [
    "# your code here"
   ]
  },
  {
   "cell_type": "code",
   "execution_count": 11,
   "id": "0ea92aad",
   "metadata": {},
   "outputs": [],
   "source": [
    "# andrew's soln\n",
    "\n",
    "### imports ###\n",
    "from e211_lib import e211 \n",
    "from matplotlib import pyplot as plt\n",
    "import numpy as np"
   ]
  },
  {
   "cell_type": "code",
   "execution_count": 12,
   "id": "5235409f",
   "metadata": {},
   "outputs": [
    {
     "ename": "StdinNotImplementedError",
     "evalue": "raw_input was called, but this frontend does not support input requests.",
     "output_type": "error",
     "traceback": [
      "\u001b[0;31m---------------------------------------------------------------------------\u001b[0m",
      "\u001b[0;31mStdinNotImplementedError\u001b[0m                  Traceback (most recent call last)",
      "\u001b[0;32m/tmp/ipykernel_3318077/3126565000.py\u001b[0m in \u001b[0;36m<module>\u001b[0;34m\u001b[0m\n\u001b[1;32m      7\u001b[0m \u001b[0;34m\u001b[0m\u001b[0m\n\u001b[1;32m      8\u001b[0m \u001b[0;31m# user inputs\u001b[0m\u001b[0;34m\u001b[0m\u001b[0;34m\u001b[0m\u001b[0;34m\u001b[0m\u001b[0m\n\u001b[0;32m----> 9\u001b[0;31m \u001b[0musrlat\u001b[0m \u001b[0;34m=\u001b[0m  \u001b[0mfloat\u001b[0m\u001b[0;34m(\u001b[0m\u001b[0minput\u001b[0m\u001b[0;34m(\u001b[0m\u001b[0;34m\"Enter a latitude: \"\u001b[0m\u001b[0;34m)\u001b[0m\u001b[0;34m)\u001b[0m\u001b[0;34m\u001b[0m\u001b[0;34m\u001b[0m\u001b[0m\n\u001b[0m\u001b[1;32m     10\u001b[0m \u001b[0musrlon\u001b[0m \u001b[0;34m=\u001b[0m  \u001b[0mfloat\u001b[0m\u001b[0;34m(\u001b[0m\u001b[0minput\u001b[0m\u001b[0;34m(\u001b[0m\u001b[0;34m\"Enter a longitude: \"\u001b[0m\u001b[0;34m)\u001b[0m\u001b[0;34m)\u001b[0m\u001b[0;34m\u001b[0m\u001b[0;34m\u001b[0m\u001b[0m\n\u001b[1;32m     11\u001b[0m \u001b[0milat\u001b[0m \u001b[0;34m=\u001b[0m \u001b[0mnp\u001b[0m\u001b[0;34m.\u001b[0m\u001b[0mabs\u001b[0m\u001b[0;34m(\u001b[0m\u001b[0mlats\u001b[0m\u001b[0;34m-\u001b[0m\u001b[0musrlat\u001b[0m\u001b[0;34m)\u001b[0m\u001b[0;34m.\u001b[0m\u001b[0margmin\u001b[0m\u001b[0;34m(\u001b[0m\u001b[0;34m)\u001b[0m\u001b[0;34m\u001b[0m\u001b[0;34m\u001b[0m\u001b[0m\n",
      "\u001b[0;32m~/mini38/envs/e211/lib/python3.8/site-packages/ipykernel/kernelbase.py\u001b[0m in \u001b[0;36mraw_input\u001b[0;34m(self, prompt)\u001b[0m\n\u001b[1;32m   1001\u001b[0m         \"\"\"\n\u001b[1;32m   1002\u001b[0m         \u001b[0;32mif\u001b[0m \u001b[0;32mnot\u001b[0m \u001b[0mself\u001b[0m\u001b[0;34m.\u001b[0m\u001b[0m_allow_stdin\u001b[0m\u001b[0;34m:\u001b[0m\u001b[0;34m\u001b[0m\u001b[0;34m\u001b[0m\u001b[0m\n\u001b[0;32m-> 1003\u001b[0;31m             raise StdinNotImplementedError(\n\u001b[0m\u001b[1;32m   1004\u001b[0m                 \u001b[0;34m\"raw_input was called, but this frontend does not support input requests.\"\u001b[0m\u001b[0;34m\u001b[0m\u001b[0;34m\u001b[0m\u001b[0m\n\u001b[1;32m   1005\u001b[0m             )\n",
      "\u001b[0;31mStdinNotImplementedError\u001b[0m: raw_input was called, but this frontend does not support input requests."
     ]
    }
   ],
   "source": [
    "### inputs ###\n",
    "\n",
    "# dataset\n",
    "topo = e211.load_topo(\"lab5_topo.mat\")\n",
    "lats = np.linspace(-89.5, 89.5, topo.shape[0])\n",
    "lons = np.linspace(0.5, 359.5, topo.shape[1])\n",
    "\n",
    "# user inputs\n",
    "usrlat =  float(input(\"Enter a latitude: \"))\n",
    "usrlon =  float(input(\"Enter a longitude: \"))\n",
    "ilat = np.abs(lats-usrlat).argmin()\n",
    "ilon = np.abs(lons-usrlon).argmin()"
   ]
  },
  {
   "cell_type": "code",
   "execution_count": 13,
   "id": "f8d445c1",
   "metadata": {},
   "outputs": [
    {
     "ename": "NameError",
     "evalue": "name 'ilon' is not defined",
     "output_type": "error",
     "traceback": [
      "\u001b[0;31m---------------------------------------------------------------------------\u001b[0m",
      "\u001b[0;31mNameError\u001b[0m                                 Traceback (most recent call last)",
      "\u001b[0;32m/tmp/ipykernel_3318077/3798314269.py\u001b[0m in \u001b[0;36m<module>\u001b[0;34m\u001b[0m\n\u001b[1;32m      2\u001b[0m \u001b[0;34m\u001b[0m\u001b[0m\n\u001b[1;32m      3\u001b[0m \u001b[0;31m# filter inputs\u001b[0m\u001b[0;34m\u001b[0m\u001b[0;34m\u001b[0m\u001b[0;34m\u001b[0m\u001b[0m\n\u001b[0;32m----> 4\u001b[0;31m \u001b[0;32mif\u001b[0m \u001b[0milon\u001b[0m \u001b[0;34m==\u001b[0m \u001b[0mlen\u001b[0m\u001b[0;34m(\u001b[0m\u001b[0mlons\u001b[0m\u001b[0;34m)\u001b[0m\u001b[0;34m-\u001b[0m\u001b[0;36m1\u001b[0m\u001b[0;34m:\u001b[0m\u001b[0;34m\u001b[0m\u001b[0;34m\u001b[0m\u001b[0m\n\u001b[0m\u001b[1;32m      5\u001b[0m     \u001b[0milon\u001b[0m \u001b[0;34m=\u001b[0m \u001b[0;36m0\u001b[0m\u001b[0;34m\u001b[0m\u001b[0;34m\u001b[0m\u001b[0m\n\u001b[1;32m      6\u001b[0m \u001b[0;31m# (dont need to do anything for ilon = 0 case, indexing [-1] automatically solves it!)\u001b[0m\u001b[0;34m\u001b[0m\u001b[0;34m\u001b[0m\u001b[0;34m\u001b[0m\u001b[0m\n",
      "\u001b[0;31mNameError\u001b[0m: name 'ilon' is not defined"
     ]
    }
   ],
   "source": [
    "### processing ###\n",
    "\n",
    "# filter inputs\n",
    "if ilon == len(lons)-1:\n",
    "    ilon = 0\n",
    "# (dont need to do anything for ilon = 0 case, indexing [-1] automatically solves it!)\n",
    "\n",
    "# calculate slope    \n",
    "slope = np.rad2deg(np.arctan((topo[ilat, ilon + 1] \n",
    "                              - topo[ilat, ilon - 1]) \n",
    "                              / (2 * 111e3 \n",
    "                              * np.cos(np.deg2rad(usrlat)))))\n",
    " \n",
    "# formatting for slope direction\n",
    "if slope > 0.1:\n",
    "    aspect = \"west\"\n",
    "elif slope < -0.1:\n",
    "    aspect = \"east\"\n",
    "else:\n",
    "    aspect = \"flat\"\n",
    "    \n",
    "# generate a variable to place the label correctly (bonus?)\n",
    "if ilon < 250:\n",
    "    offset = 10\n",
    "else:\n",
    "    offset = -70"
   ]
  },
  {
   "cell_type": "code",
   "execution_count": 14,
   "id": "d211493b",
   "metadata": {},
   "outputs": [
    {
     "ename": "NameError",
     "evalue": "name 'usrlon' is not defined",
     "output_type": "error",
     "traceback": [
      "\u001b[0;31m---------------------------------------------------------------------------\u001b[0m",
      "\u001b[0;31mNameError\u001b[0m                                 Traceback (most recent call last)",
      "\u001b[0;32m/tmp/ipykernel_3318077/1641924728.py\u001b[0m in \u001b[0;36m<module>\u001b[0;34m\u001b[0m\n\u001b[1;32m      3\u001b[0m \u001b[0mfig\u001b[0m\u001b[0;34m,\u001b[0m \u001b[0max\u001b[0m \u001b[0;34m=\u001b[0m \u001b[0mplt\u001b[0m\u001b[0;34m.\u001b[0m\u001b[0msubplots\u001b[0m\u001b[0;34m(\u001b[0m\u001b[0;34m)\u001b[0m\u001b[0;34m\u001b[0m\u001b[0;34m\u001b[0m\u001b[0m\n\u001b[1;32m      4\u001b[0m \u001b[0max\u001b[0m\u001b[0;34m.\u001b[0m\u001b[0mcontourf\u001b[0m\u001b[0;34m(\u001b[0m\u001b[0mlons\u001b[0m\u001b[0;34m,\u001b[0m \u001b[0mlats\u001b[0m\u001b[0;34m,\u001b[0m \u001b[0mtopo\u001b[0m\u001b[0;34m)\u001b[0m\u001b[0;34m\u001b[0m\u001b[0;34m\u001b[0m\u001b[0m\n\u001b[0;32m----> 5\u001b[0;31m \u001b[0max\u001b[0m\u001b[0;34m.\u001b[0m\u001b[0mannotate\u001b[0m\u001b[0;34m(\u001b[0m\u001b[0;34m\"X\"\u001b[0m\u001b[0;34m,\u001b[0m \u001b[0;34m(\u001b[0m\u001b[0musrlon\u001b[0m\u001b[0;34m,\u001b[0m \u001b[0musrlat\u001b[0m\u001b[0;34m)\u001b[0m\u001b[0;34m,\u001b[0m \u001b[0mcolor\u001b[0m\u001b[0;34m=\u001b[0m\u001b[0;34m\"red\"\u001b[0m\u001b[0;34m)\u001b[0m\u001b[0;34m\u001b[0m\u001b[0;34m\u001b[0m\u001b[0m\n\u001b[0m\u001b[1;32m      6\u001b[0m the_label = (\n\u001b[1;32m      7\u001b[0m     \u001b[0;34mf\"lat: {lats[ilat]} deg\\nlon: {lons[ilon]} deg\\nheight: {topo[ilat, ilon]} m\"\u001b[0m\u001b[0;34m\u001b[0m\u001b[0;34m\u001b[0m\u001b[0m\n",
      "\u001b[0;31mNameError\u001b[0m: name 'usrlon' is not defined"
     ]
    },
    {
     "data": {
      "image/png": "[encoded data removed]",
      "text/plain": [
       "<Figure size 432x288 with 1 Axes>"
      ]
     },
     "metadata": {
      "filenames": {
       "image/png": "/home/phil/repos/eosc211/_build/jupyter_execute/wk05/lab_wk5/lab_wk5_20_1.png"
      },
      "needs_background": "light"
     },
     "output_type": "display_data"
    }
   ],
   "source": [
    "### output ###\n",
    "\n",
    "fig, ax = plt.subplots()\n",
    "ax.contourf(lons, lats, topo)\n",
    "ax.annotate(\"X\", (usrlon, usrlat), color=\"red\")\n",
    "the_label = (\n",
    "    f\"lat: {lats[ilat]} deg\\nlon: {lons[ilon]} deg\\nheight: {topo[ilat, ilon]} m\"\n",
    "    + f\"\\nslope: {round(slope,3)}\\naspect: {aspect}\"\n",
    ")\n",
    "ax.annotate(the_label, (usrlon + offset, usrlat), color=\"white\")\n",
    "ax.set_xlabel(\"longitude (deg)\")\n",
    "ax.set_ylabel(\"latitude (deg)\")\n",
    "ax.set_title(\"Topographical Map of Earth\");"
   ]
  }
 ],
 "metadata": {
  "jupytext": {
   "encoding": "# -*- coding: utf-8 -*-",
   "formats": "py:percent,ipynb,md:myst",
   "text_representation": {
    "extension": ".md",
    "format_name": "myst",
    "format_version": 0.13,
    "jupytext_version": "1.10.3"
   }
  },
  "kernelspec": {
   "display_name": "Python 3 (ipykernel)",
   "language": "python",
   "name": "python3"
  },
  "language_info": {
   "codemirror_mode": {
    "name": "ipython",
    "version": 3
   },
   "file_extension": ".py",
   "mimetype": "text/x-python",
   "name": "python",
   "nbconvert_exporter": "python",
   "pygments_lexer": "ipython3",
   "version": "3.8.10"
  },
  "source_map": [
   14,
   30,
   44,
   50,
   56,
   63,
   71,
   84,
   88,
   94,
   118,
   122,
   129,
   145,
   149,
   171,
   209,
   213,
   222,
   237,
   266
  ]
 },
 "nbformat": 4,
 "nbformat_minor": 5
}