{
 "cells": [
  {
   "cell_type": "markdown",
   "id": "a5461ee0",
   "metadata": {},
   "source": [
    "# Data Structures II\n",
    "\n",
    "## EOSC 211\n",
    "\n",
    "**Week 3 Day 2**\n",
    "\n",
    "**Learning Objectives:**  \n",
    "1. Get more experience with Numpy arrays\n",
    "2. Use built in functions to write efficient, *Pythonic* code"
   ]
  },
  {
   "cell_type": "code",
   "execution_count": 1,
   "id": "49434e06",
   "metadata": {},
   "outputs": [],
   "source": [
    "import numpy as np"
   ]
  },
  {
   "cell_type": "markdown",
   "id": "fea11e42",
   "metadata": {},
   "source": [
    "## Question 1\n",
    "\n",
    "**A) Execute the following cells and describe IN WORDS what is happening in each cell**"
   ]
  },
  {
   "cell_type": "code",
   "execution_count": 2,
   "id": "339c9cdc",
   "metadata": {},
   "outputs": [],
   "source": [
    "lats = np.arange(1,21)\n",
    "lats = np.arange(10,16)"
   ]
  },
  {
   "cell_type": "code",
   "execution_count": 3,
   "id": "9a532fcf",
   "metadata": {},
   "outputs": [],
   "source": [
    "L2 = np.array([lats[2], lats[4]])"
   ]
  },
  {
   "cell_type": "code",
   "execution_count": 4,
   "id": "e286822c",
   "metadata": {},
   "outputs": [],
   "source": [
    "L3 = np.array([lats[-1], lats[0]])"
   ]
  },
  {
   "cell_type": "code",
   "execution_count": 5,
   "id": "cc6a1d84",
   "metadata": {},
   "outputs": [],
   "source": [
    "L4 = lats[lats > 13]"
   ]
  },
  {
   "cell_type": "code",
   "execution_count": 6,
   "id": "371f55f5",
   "metadata": {},
   "outputs": [],
   "source": [
    "L5 = lats[lats >= 13]"
   ]
  },
  {
   "cell_type": "code",
   "execution_count": 7,
   "id": "aa15c9ac",
   "metadata": {},
   "outputs": [],
   "source": [
    "L6 = lats[::-1]"
   ]
  },
  {
   "cell_type": "code",
   "execution_count": 8,
   "id": "c9773e4f",
   "metadata": {},
   "outputs": [],
   "source": [
    "L7 = lats[-1]\n",
    "L7 = lats[4]\n",
    "L7 = lats[len(lats)-1]"
   ]
  },
  {
   "cell_type": "markdown",
   "id": "e0fea271",
   "metadata": {},
   "source": [
    "## Question 2\n",
    "\n",
    "**A) We can change the shape of our `lats` array with numpy's built in funciton `reshape()`. What does the following code do?**"
   ]
  },
  {
   "cell_type": "code",
   "execution_count": 9,
   "id": "26275424",
   "metadata": {},
   "outputs": [],
   "source": [
    "newlats = lats.reshape([2,3])"
   ]
  },
  {
   "cell_type": "markdown",
   "id": "6beeaac6",
   "metadata": {},
   "source": [
    "**B) What are all the possible shapes we can reassign to `lats`? Why do some work and others not**"
   ]
  },
  {
   "cell_type": "markdown",
   "id": "f5d115ae",
   "metadata": {},
   "source": [
    "**C) We can return `lats` to it's original shape using `flatten()`, i.e.**"
   ]
  },
  {
   "cell_type": "code",
   "execution_count": 10,
   "id": "55d533cc",
   "metadata": {},
   "outputs": [
    {
     "data": {
      "text/plain": [
       "array([10, 11, 12, 13, 14, 15])"
      ]
     },
     "execution_count": 10,
     "metadata": {},
     "output_type": "execute_result"
    }
   ],
   "source": [
    "lats = newlats.flatten()\n",
    "lats"
   ]
  },
  {
   "cell_type": "markdown",
   "id": "c676416e",
   "metadata": {},
   "source": [
    "**How else could you accomplish this? Write code in the following cell that outputs the same result starting with any of the `newlats` shapes we used above**"
   ]
  },
  {
   "cell_type": "code",
   "execution_count": 11,
   "id": "61149407",
   "metadata": {},
   "outputs": [],
   "source": [
    "# your code here"
   ]
  },
  {
   "cell_type": "markdown",
   "id": "7db40911",
   "metadata": {},
   "source": [
    "## Question 3\n",
    "\n",
    "**Along with `+`, `-`, `*`, `/`, python also defines the *floor division operator* `//` and the *modulo operator* `%`. Floor division (`//`) outputs the *quotient* of two integers, and modulo (`%`) outputs the remainder. Example code:**"
   ]
  },
  {
   "cell_type": "code",
   "execution_count": 12,
   "id": "31bea879",
   "metadata": {},
   "outputs": [
    {
     "data": {
      "text/plain": [
       "2"
      ]
     },
     "execution_count": 12,
     "metadata": {},
     "output_type": "execute_result"
    }
   ],
   "source": [
    "5 // 2"
   ]
  },
  {
   "cell_type": "code",
   "execution_count": 13,
   "id": "c28d38ee",
   "metadata": {},
   "outputs": [
    {
     "data": {
      "text/plain": [
       "1"
      ]
     },
     "execution_count": 13,
     "metadata": {},
     "output_type": "execute_result"
    }
   ],
   "source": [
    "5 % 2"
   ]
  },
  {
   "cell_type": "markdown",
   "id": "854d4c65",
   "metadata": {},
   "source": [
    "**Write a few lines of code that will create the array `B`, which contains only the even valued elements of an array `A`. You don't know the size of `A` but you do know it contains only integers.**"
   ]
  },
  {
   "cell_type": "code",
   "execution_count": 14,
   "id": "4f786bc2",
   "metadata": {},
   "outputs": [],
   "source": [
    "# your code here"
   ]
  }
 ],
 "metadata": {
  "jupytext": {
   "formats": "ipynb,md:myst",
   "text_representation": {
    "extension": ".md",
    "format_name": "myst",
    "format_version": 0.13,
    "jupytext_version": "1.10.3"
   }
  },
  "kernelspec": {
   "display_name": "Python 3 (ipykernel)",
   "language": "python",
   "name": "python3"
  },
  "language_info": {
   "codemirror_mode": {
    "name": "ipython",
    "version": 3
   },
   "file_extension": ".py",
   "mimetype": "text/x-python",
   "name": "python",
   "nbconvert_exporter": "python",
   "pygments_lexer": "ipython3",
   "version": "3.8.10"
  },
  "source_map": [
   13,
   25,
   27,
   33,
   38,
   42,
   46,
   50,
   54,
   58,
   62,
   68,
   70,
   74,
   78,
   81,
   85,
   87,
   93,
   97,
   99,
   103
  ]
 },
 "nbformat": 4,
 "nbformat_minor": 5
}