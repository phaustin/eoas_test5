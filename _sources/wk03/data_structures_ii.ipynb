{
 "cells": [
  {
   "cell_type": "markdown",
   "id": "d97309eb",
   "metadata": {},
   "source": [
    "# Data Structures II\n",
    "\n",
    "## EOSC 211\n",
    "\n",
    "**Week 3 Day 2**\n",
    "\n",
    "**Learning Objectives:**  \n",
    "1. Get more experience with Numpy arrays\n",
    "2. Use built in functions to write efficient, *Pythonic* code\n",
    "\n",
    "Useful references:\n",
    "\n",
    "[Professor Kazarinoff](https://github.com/ProfessorKazarinoff/Problem-Solving-with-Python-37-Edition/blob/master/notebooks/05-NumPy-and-Arrays/05.03-Python-Lists-and-NumPy-Arrays.ipynb)\n",
    "\n",
    "[Numpy Documentation](https://numpy.org/doc/stable/reference/generated/numpy.array.html)"
   ]
  },
  {
   "cell_type": "code",
   "execution_count": 1,
   "id": "8527d8cd",
   "metadata": {},
   "outputs": [],
   "source": [
    "import numpy as np"
   ]
  },
  {
   "cell_type": "markdown",
   "id": "e1487741",
   "metadata": {},
   "source": [
    "## Question 1)\n",
    "\n",
    "**A) Execute the following cells and describe IN WORDS what is happening in each cell**"
   ]
  },
  {
   "cell_type": "code",
   "execution_count": 2,
   "id": "24da6b96",
   "metadata": {},
   "outputs": [],
   "source": [
    "lats=np.arange(1,21)\n",
    "lats=np.arange(10,16)"
   ]
  },
  {
   "cell_type": "code",
   "execution_count": 3,
   "id": "dcc87da1",
   "metadata": {},
   "outputs": [],
   "source": [
    "L2 = np.array([lats[2], lats[4]])"
   ]
  },
  {
   "cell_type": "code",
   "execution_count": 4,
   "id": "932d74e3",
   "metadata": {},
   "outputs": [],
   "source": [
    "L3 = np.array([lats[-1], lats[0]])"
   ]
  },
  {
   "cell_type": "code",
   "execution_count": 5,
   "id": "5a13ed10",
   "metadata": {},
   "outputs": [],
   "source": [
    "L4 = lats[lats > 13]"
   ]
  },
  {
   "cell_type": "code",
   "execution_count": 6,
   "id": "3ce7a2d6",
   "metadata": {},
   "outputs": [],
   "source": [
    "L5 = lats[lats >= 13]"
   ]
  },
  {
   "cell_type": "code",
   "execution_count": 7,
   "id": "addd7361",
   "metadata": {},
   "outputs": [],
   "source": [
    "L6 = lats[::-1]"
   ]
  },
  {
   "cell_type": "code",
   "execution_count": 8,
   "id": "8248f646",
   "metadata": {},
   "outputs": [],
   "source": [
    "L7 = lats[-1]\n",
    "L7 = lats[4]\n",
    "L7 = lats[len(lats)-1]"
   ]
  },
  {
   "cell_type": "markdown",
   "id": "13b6240a",
   "metadata": {},
   "source": [
    "## Question 2\n",
    "\n",
    "**A) We can change the shape of our `lats` array with numpy's built in funciton `reshape()`. What does the following code do?**"
   ]
  },
  {
   "cell_type": "code",
   "execution_count": 9,
   "id": "fb0ce482",
   "metadata": {},
   "outputs": [],
   "source": [
    "newlats = lats.reshape([2,3])"
   ]
  },
  {
   "cell_type": "markdown",
   "id": "56ad4efc",
   "metadata": {},
   "source": [
    "**B) What are all the possible shapes we can reassign to `lats`? Why do some work and others not**"
   ]
  },
  {
   "cell_type": "markdown",
   "id": "b03e23dd",
   "metadata": {},
   "source": [
    "your answer here"
   ]
  },
  {
   "cell_type": "markdown",
   "id": "359db068",
   "metadata": {},
   "source": [
    "**C) We can return `lats` to it's original shape using `flatten()`, i.e.**"
   ]
  },
  {
   "cell_type": "code",
   "execution_count": 10,
   "id": "a2238a8a",
   "metadata": {},
   "outputs": [
    {
     "data": {
      "text/plain": [
       "array([10, 11, 12, 13, 14, 15])"
      ]
     },
     "execution_count": 10,
     "metadata": {},
     "output_type": "execute_result"
    }
   ],
   "source": [
    "lats = newlats.flatten()\n",
    "lats"
   ]
  },
  {
   "cell_type": "markdown",
   "id": "7524bbe7",
   "metadata": {},
   "source": [
    "**How else could you accomplish this? Write code in the following cell that outputs the same result starting with any of the `newlats` shapes we used above**"
   ]
  },
  {
   "cell_type": "code",
   "execution_count": 11,
   "id": "b3c009d7",
   "metadata": {},
   "outputs": [],
   "source": [
    "# your code here"
   ]
  },
  {
   "cell_type": "code",
   "execution_count": 12,
   "id": "8412e8ee",
   "metadata": {},
   "outputs": [
    {
     "data": {
      "text/plain": [
       "array([10, 11, 12, 13, 14, 15])"
      ]
     },
     "execution_count": 12,
     "metadata": {},
     "output_type": "execute_result"
    }
   ],
   "source": [
    "# andrew's soln\n",
    "lats = lats.reshape(len(lats))\n",
    "lats"
   ]
  },
  {
   "cell_type": "markdown",
   "id": "112e04ba",
   "metadata": {},
   "source": [
    "## Question 3\n",
    "\n",
    "old question 3 from matlab version introduces OO data structure featuring a student 'joe lunchbucket', who's attributes include birthday and grade in EOSC211. Replace with different content and do talk about classes later?"
   ]
  },
  {
   "cell_type": "markdown",
   "id": "d36432b9",
   "metadata": {},
   "source": [
    "## Question 4\n",
    "\n",
    "**Along with `+`, `-`, `*`, `/`, python also defines the *floor division operator* `//` and the *modulo operator* `%`. Floor division (`//`) outputs the *quotient* of two integers, and modulo (`%`) outputs the remainder. Example code:**"
   ]
  },
  {
   "cell_type": "code",
   "execution_count": 13,
   "id": "7bfb35ea",
   "metadata": {},
   "outputs": [
    {
     "data": {
      "text/plain": [
       "2"
      ]
     },
     "execution_count": 13,
     "metadata": {},
     "output_type": "execute_result"
    }
   ],
   "source": [
    "5 // 2"
   ]
  },
  {
   "cell_type": "code",
   "execution_count": 14,
   "id": "b32a32c4",
   "metadata": {},
   "outputs": [
    {
     "data": {
      "text/plain": [
       "1"
      ]
     },
     "execution_count": 14,
     "metadata": {},
     "output_type": "execute_result"
    }
   ],
   "source": [
    "5 % 2"
   ]
  },
  {
   "cell_type": "markdown",
   "id": "70e43641",
   "metadata": {},
   "source": [
    "**Write a few lines of code that will create the array `B`, which contains only the even valued elements of an array `A`. You don't know the size of `A` but you do know it contains only integers.**"
   ]
  },
  {
   "cell_type": "code",
   "execution_count": 15,
   "id": "69a48c60",
   "metadata": {},
   "outputs": [],
   "source": [
    "# your code here"
   ]
  },
  {
   "cell_type": "code",
   "execution_count": 16,
   "id": "0c542117",
   "metadata": {},
   "outputs": [
    {
     "data": {
      "text/plain": [
       "array([ 2,  4,  6,  8, 10])"
      ]
     },
     "execution_count": 16,
     "metadata": {},
     "output_type": "execute_result"
    }
   ],
   "source": [
    "# andrew's soln\n",
    "A = np.array([[1, 2, 3, 4, 5],[6, 7, 8, 9, 10]])\n",
    "B = A[A % 2 == 0]\n",
    "B"
   ]
  },
  {
   "cell_type": "code",
   "execution_count": null,
   "id": "39af6bef",
   "metadata": {},
   "outputs": [],
   "source": []
  }
 ],
 "metadata": {
  "jupytext": {
   "formats": "ipynb,md:myst",
   "text_representation": {
    "extension": ".md",
    "format_name": "myst",
    "format_version": 0.13,
    "jupytext_version": "1.10.3"
   }
  },
  "kernelspec": {
   "display_name": "Python 3 (ipykernel)",
   "language": "python",
   "name": "python3"
  },
  "language_info": {
   "codemirror_mode": {
    "name": "ipython",
    "version": 3
   },
   "file_extension": ".py",
   "mimetype": "text/x-python",
   "name": "python",
   "nbconvert_exporter": "python",
   "pygments_lexer": "ipython3",
   "version": "3.8.10"
  },
  "source_map": [
   13,
   31,
   33,
   39,
   44,
   48,
   52,
   56,
   60,
   64,
   68,
   74,
   76,
   80,
   84,
   88,
   91,
   95,
   99,
   103,
   109,
   115,
   119,
   121,
   125,
   129,
   136
  ]
 },
 "nbformat": 4,
 "nbformat_minor": 5
}