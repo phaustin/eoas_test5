{
 "cells": [
  {
   "cell_type": "markdown",
   "id": "89b28d69",
   "metadata": {},
   "source": [
    "# Some Review Plus Built-In Functions, Arrays Preview\n",
    "\n",
    "## EOSC 211\n",
    "\n",
    "**Week 2 Day 2**\n",
    "\n",
    "### Learning Goals\n",
    "\n",
    "* Review variable assignment, structural elements of Python\n",
    "* Introduce numpy arrays\n",
    "* Use built-in functions from the python core and numpy package"
   ]
  },
  {
   "cell_type": "code",
   "execution_count": 1,
   "id": "86f6b357",
   "metadata": {},
   "outputs": [],
   "source": [
    "# import the numpy package - an extension of python's core built in functions\n",
    "import numpy as np"
   ]
  },
  {
   "cell_type": "markdown",
   "id": "fab5c6d3",
   "metadata": {},
   "source": [
    "### Question 1\n",
    "\n",
    "**A) The code snippet below was intended to calculate the surface area of the Earth and print the answer to the screen.  What is the actual output (describe the quantity in words) of the code snippet?**"
   ]
  },
  {
   "cell_type": "code",
   "execution_count": 7,
   "id": "bd8116ba",
   "metadata": {},
   "outputs": [
    {
     "name": "stdout",
     "output_type": "stream",
     "text": [
      "The surface area of the Earth is 38002225.268666476 km^2\n"
     ]
    }
   ],
   "source": [
    "rad = 6371  # radius of earth in km\n",
    "area = 4 * np.pi * rad ** 2\n",
    "rad = 1739  # radius of moon in km\n",
    "area = 4 * np.pi * rad ** 2\n",
    "\n",
    "print(f\"The surface area of the Earth is {area} km^2\")"
   ]
  },
  {
   "cell_type": "markdown",
   "id": "862be71b",
   "metadata": {},
   "source": [
    "**B) Identify in the code snippet:**"
   ]
  },
  {
   "cell_type": "markdown",
   "id": "29913d59",
   "metadata": {},
   "source": [
    "**Variable names:** your answer here\n",
    "\n",
    "**Special characters:** \n",
    "\n",
    "**Python reserved words:**\n",
    "\n",
    "**Operators:**"
   ]
  }
 ],
 "metadata": {
  "jupytext": {
   "formats": "ipynb,md:myst",
   "text_representation": {
    "extension": ".md",
    "format_name": "myst",
    "format_version": 0.13,
    "jupytext_version": "1.10.3"
   }
  },
  "kernelspec": {
   "display_name": "Python 3 (ipykernel)",
   "language": "python",
   "name": "python3"
  },
  "language_info": {
   "codemirror_mode": {
    "name": "ipython",
    "version": 3
   },
   "file_extension": ".py",
   "mimetype": "text/x-python",
   "name": "python",
   "nbconvert_exporter": "python",
   "pygments_lexer": "ipython3",
   "version": "3.8.10"
  }
 },
 "nbformat": 4,
 "nbformat_minor": 5
}
